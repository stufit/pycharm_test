{
 "cells": [
  {
   "cell_type": "code",
   "execution_count": 3,
   "metadata": {},
   "outputs": [
    {
     "name": "stdout",
     "output_type": "stream",
     "text": [
      "Name: selenium\n",
      "Version: 3.141.0\n",
      "Summary: Python bindings for Selenium\n",
      "Home-page: https://github.com/SeleniumHQ/selenium/\n",
      "Author: UNKNOWN\n",
      "Author-email: UNKNOWN\n",
      "License: Apache 2.0\n",
      "Location: /opt/anaconda3/lib/python3.8/site-packages\n",
      "Requires: urllib3\n",
      "Required-by: \n",
      "Note: you may need to restart the kernel to use updated packages.\n"
     ]
    }
   ],
   "source": [
    "pip show selenium"
   ]
  },
  {
   "cell_type": "markdown",
   "metadata": {},
   "source": [
    "### WebDriver 의 Chrome 객체생성\n",
    "* python.org 웹사이트로 요청을 보내기\n",
    "* pypl 메뉴를 클릭해서 pypl.org 웹사이트로 이동하기"
   ]
  },
  {
   "cell_type": "code",
   "execution_count": 17,
   "metadata": {},
   "outputs": [
    {
     "name": "stdout",
     "output_type": "stream",
     "text": [
      "Python\n",
      "PSF\n",
      "Docs\n",
      "PyPI\n",
      "Jobs\n",
      "Community\n"
     ]
    }
   ],
   "source": [
    "from selenium import webdriver\n",
    "import time\n",
    "\n",
    "# webdriver에 포함된 Chrome객체를 생성 -> chromedriver.exec(맥용) 사용하여 객체 생성\n",
    "driver = webdriver.Chrome('./chromedriver')\n",
    "# pythonorg 사이트로 요청 보내기\n",
    "driver.get('https://www.python.org/')\n",
    "\n",
    "#li 엘리먼트 선택해서 가져오기, li_tag 가져옴(개발자도구로 pypl 클릭)\n",
    "\n",
    "li_tags=driver.find_elements_by_css_selector('div#top ul.menu li')\n",
    "# print(li_tags)\n",
    "\n",
    "# pypi 엘리먼트를 찾아서 저장할 변수를 선언\n",
    "pypi = None\n",
    "for li_tag in li_tags:\n",
    "    print(li_tag.text)\n",
    "    if li_tag.text =='PyPI':\n",
    "        pypi = li_tag\n",
    "time.sleep(3)\n",
    "# pypi 엘리먼트의 click() 함수 호출\n",
    "pypi.click()\n",
    "\n",
    "#5초로 waiting time 설정\n",
    "time.sleep(5)\n",
    "#diver 종료\n",
    "driver.quit()"
   ]
  },
  {
   "cell_type": "markdown",
   "metadata": {},
   "source": [
    "### 네이버 포털의 image save 해보기"
   ]
  },
  {
   "cell_type": "code",
   "execution_count": 21,
   "metadata": {},
   "outputs": [],
   "source": [
    "from selenium import webdriver\n",
    "import time\n",
    "\n",
    "driver = webdriver.Chrome('./chromedriver')\n",
    "\n",
    "driver.get('https://www.naver.com/')\n",
    "driver.save_screenshot('/Users/gaegul/Documents/naver.png')\n",
    "\n",
    "\n",
    "time.sleep(3)\n",
    "driver.quit()"
   ]
  },
  {
   "cell_type": "markdown",
   "metadata": {},
   "source": [
    "### 네이버 포털에 파이썬 검색어를 입력\n",
    "* 검색어를 입력하고 엔터를 치고\n",
    "* 검색된 결과중에서 지식인에 검색된 링크를 클릭"
   ]
  },
  {
   "cell_type": "code",
   "execution_count": 44,
   "metadata": {},
   "outputs": [],
   "source": [
    "from selenium import webdriver\n",
    "from selenium.webdriver.common.keys import Keys\n",
    "import time\n",
    "\n",
    "#webdriver에 포함된 Chrome 객체 생성 -> chromedriver.exe를 사용\n",
    "driver = webdriver.Chrome('./chromedriver')\n",
    "# 네이버 포털에 요청 보내기\n",
    "driver.get('https://www.naver.com/')\n",
    "# 검색어 엘리먼트 가져오기\n",
    "search_tag = driver.find_element_by_css_selector('#query')\n",
    "# 검색창에 파이썬 키워드를 입력한다\n",
    "search_tag.send_keys('오만상사')\n",
    "search_tag.send_keys(Keys.ENTER)\n",
    "time.sleep(2)\n",
    "\n",
    "# 검색된 결과 중에서 a tag를 가져오기<a class = 'tit'>\n",
    "a_tags = driver.find_elements_by_css_selector('a.title_link')\n",
    "# 첫번째 a tag 선택하고, click()함수 호출\n",
    "a_tags[1].click()\n",
    "\n",
    "\n",
    "\n",
    "#지연 시간을 5초로 설정\n",
    "time.sleep(5)\n",
    "#driver 종료\n",
    "driver.quit()\n"
   ]
  },
  {
   "cell_type": "markdown",
   "metadata": {},
   "source": [
    "### Daum 포털 로그인/로그아웃\n",
    "* id와 password를 입력하고 패스워드필드에서 엔터를 치거나 로그인 버튼을 클릭해서 로그인\n",
    "* 로그인 후에 이름과 메일건수를 알아내기\n",
    "* 로그아웃 버튼을 클릭해서 로그아웃"
   ]
  },
  {
   "cell_type": "code",
   "execution_count": 47,
   "metadata": {},
   "outputs": [
    {
     "name": "stdout",
     "output_type": "stream",
     "text": [
      "이름: 루님\n",
      "메일건수: 99+\n"
     ]
    }
   ],
   "source": [
    "from selenium import webdriver\n",
    "from selenium.webdriver.common.keys import Keys\n",
    "\n",
    "import time\n",
    "\n",
    "url= 'https://logins.daum.net/accounts/signinform.do'\n",
    "driver = webdriver.Chrome('./chromedriver')\n",
    "# 웹 리소스 로드를 위해서 2초까지 기다려 준다.\n",
    "driver.implicitly_wait(2)\n",
    "\n",
    "#요청 보내기\n",
    "driver.get(url)\n",
    "time.sleep(2)\n",
    "# id와 password를 키보드로 입력하기 위해 send_keys()함수 호출\n",
    "driver.find_element_by_css_selector('#id').send_keys('hicmcs123')\n",
    "driver.find_element_by_css_selector('#inputPwd').send_keys('qwer1234!!')\n",
    "\n",
    "# 로그인 방법 1.로그인 버튼을 클릭\n",
    "# driver.find_element_by_css_selector('button#loginBtn').click()\n",
    "\n",
    "# 로그인 방법 2. password 필드에서 엔터를 입력하기 위해 send.keys(Keys.Enter)함수\n",
    "driver.find_element_by_css_selector('#inputPwd').send_keys(Keys.ENTER)\n",
    "# 로그인 후 내 이름 개발자에서 클릭하면 a href = ~~ class='name_user'\n",
    "name = driver.find_element_by_css_selector('a.name_user').text\n",
    "print('이름:',name)\n",
    "# 로그인 후 내 메일 수 개발자에서 클릭하면 a href = ~~ class='link_num'\n",
    "mail = driver.find_element_by_css_selector('a.link_num').text\n",
    "print('메일건수:',mail)\n",
    "\n",
    "time.sleep(3)\n",
    "# 로그아웃 버튼\n",
    "driver.find_element_by_css_selector('a.btn_logout').click()\n",
    "\n",
    "\n",
    "time.sleep(5)\n",
    "driver.quit()"
   ]
  },
  {
   "cell_type": "code",
   "execution_count": null,
   "metadata": {},
   "outputs": [],
   "source": []
  }
 ],
 "metadata": {
  "kernelspec": {
   "display_name": "Python 3",
   "language": "python",
   "name": "python3"
  },
  "language_info": {
   "codemirror_mode": {
    "name": "ipython",
    "version": 3
   },
   "file_extension": ".py",
   "mimetype": "text/x-python",
   "name": "python",
   "nbconvert_exporter": "python",
   "pygments_lexer": "ipython3",
   "version": "3.8.3"
  }
 },
 "nbformat": 4,
 "nbformat_minor": 4
}
