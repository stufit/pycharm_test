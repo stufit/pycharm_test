{
 "cells": [
  {
   "cell_type": "code",
   "execution_count": 4,
   "metadata": {},
   "outputs": [
    {
     "name": "stdout",
     "output_type": "stream",
     "text": [
      "<class 'dict'>\n",
      "홍길동\n"
     ]
    }
   ],
   "source": [
    "#dict\n",
    "my_dict = {\n",
    "    \"name\":\"홍길동\",\n",
    "    \"age\":40\n",
    "}\n",
    "print(type(my_dict))\n",
    "name= my_dict['name']\n",
    "print(name)"
   ]
  },
  {
   "cell_type": "code",
   "execution_count": 6,
   "metadata": {},
   "outputs": [
    {
     "name": "stdout",
     "output_type": "stream",
     "text": [
      "name 홍길동\n",
      "age 40\n"
     ]
    }
   ],
   "source": [
    "for key, value in my_dict.items():\n",
    "    print(key,value)"
   ]
  },
  {
   "cell_type": "code",
   "execution_count": 15,
   "metadata": {},
   "outputs": [],
   "source": [
    "def my_url(kind):\n",
    "    #url=\"https://openapi.naver.com/v1/search/{}.json\".format(kind)\n",
    "    url=f\"https://openapi.naver.com/v1/search/{kind}.json\"\n",
    "\n",
    "    print(url)\n",
    "    "
   ]
  },
  {
   "cell_type": "code",
   "execution_count": 18,
   "metadata": {},
   "outputs": [
    {
     "name": "stdout",
     "output_type": "stream",
     "text": [
      "https://openapi.naver.com/v1/search/news.json\n",
      "https://openapi.naver.com/v1/search/movie.json\n",
      "https://openapi.naver.com/v1/search/book.json\n"
     ]
    }
   ],
   "source": [
    "my_url(\"news\")\n",
    "my_url(\"movie\")\n",
    "my_url(\"book\")\n"
   ]
  },
  {
   "cell_type": "code",
   "execution_count": 25,
   "metadata": {},
   "outputs": [
    {
     "name": "stdout",
     "output_type": "stream",
     "text": [
      "<class 'list'> ['a', 'b', 'c']\n"
     ]
    }
   ],
   "source": [
    "# split()함수 사용\n",
    "my_str = 'a/b/c'\n",
    "result = my_str.split('/')\n",
    "print(type(result),result)"
   ]
  },
  {
   "cell_type": "code",
   "execution_count": 61,
   "metadata": {},
   "outputs": [
    {
     "data": {
      "text/plain": [
       "['',\n",
       " 'Yesterday all my troubles seemed so far away.',\n",
       " \"Now it looks as though they're here to stay.\",\n",
       " 'Oh, I believe in yesterday.',\n",
       " '']"
      ]
     },
     "execution_count": 61,
     "metadata": {},
     "output_type": "execute_result"
    }
   ],
   "source": [
    "lyric = '''\n",
    "Yesterday all my troubles seemed so far away.\n",
    "Now it looks as though they're here to stay.\n",
    "Oh, I believe in yesterday.\n",
    "'''\n",
    "result = lyric.split('\\n')\n",
    "result"
   ]
  },
  {
   "cell_type": "code",
   "execution_count": 65,
   "metadata": {},
   "outputs": [
    {
     "data": {
      "text/plain": [
       "[1, 4, 9, 16]"
      ]
     },
     "execution_count": 65,
     "metadata": {},
     "output_type": "execute_result"
    }
   ],
   "source": [
    "# list comprehension -> 포괄적인 list 라는 뜻\n",
    "# 적용하지 않았을때(before)\n",
    "\n",
    "numbers = [1,2,3,4]\n",
    "result= []\n",
    "for value in numbers:\n",
    "    result.append(value**2)\n",
    "\n",
    "result\n",
    "    "
   ]
  },
  {
   "cell_type": "code",
   "execution_count": 50,
   "metadata": {},
   "outputs": [
    {
     "data": {
      "text/plain": [
       "[1, 4, 9, 16]"
      ]
     },
     "execution_count": 50,
     "metadata": {},
     "output_type": "execute_result"
    }
   ],
   "source": [
    "# 적용한 후(after)\n",
    "result2 = [val **2 for val in numbers]\n",
    "result2"
   ]
  },
  {
   "cell_type": "code",
   "execution_count": 56,
   "metadata": {},
   "outputs": [
    {
     "data": {
      "text/plain": [
       "[0, 2, 4, 6, 8, 10, 12, 14, 16, 18]"
      ]
     },
     "execution_count": 56,
     "metadata": {},
     "output_type": "execute_result"
    }
   ],
   "source": [
    "# 적용전(before)\n",
    "even_list =[]\n",
    "for val in range(20):\n",
    "    if val %2==0:\n",
    "        #print(val)\n",
    "        even_list.append(val)\n",
    "even_list"
   ]
  },
  {
   "cell_type": "code",
   "execution_count": 57,
   "metadata": {},
   "outputs": [
    {
     "data": {
      "text/plain": [
       "[0, 1, 2, 3, 4, 5, 6, 7, 8, 9, 10, 11, 12, 13, 14, 15, 16, 17, 18, 19]"
      ]
     },
     "execution_count": 57,
     "metadata": {},
     "output_type": "execute_result"
    }
   ],
   "source": [
    "# 적용후(after)\n",
    "even_list2 = [val for val in range(20)]\n",
    "even_list2"
   ]
  },
  {
   "cell_type": "code",
   "execution_count": 58,
   "metadata": {},
   "outputs": [
    {
     "data": {
      "text/plain": [
       "[0, 2, 4, 6, 8, 10, 12, 14, 16, 18]"
      ]
     },
     "execution_count": 58,
     "metadata": {},
     "output_type": "execute_result"
    }
   ],
   "source": [
    "# 적용후(after)\n",
    "even_list2 = [val for val in range(20) if val%2==0]\n",
    "even_list2"
   ]
  },
  {
   "cell_type": "code",
   "execution_count": 4,
   "metadata": {},
   "outputs": [
    {
     "data": {
      "text/plain": [
       "[{'seq': 0, 'title': 'Dynamite'},\n",
       " {'seq': 1, 'title': 'Dynamite'},\n",
       " {'seq': 2, 'title': 'Dynamite'},\n",
       " {'seq': 3, 'title': 'Dynamite'},\n",
       " {'seq': 4, 'title': 'Dynamite'}]"
      ]
     },
     "execution_count": 4,
     "metadata": {},
     "output_type": "execute_result"
    }
   ],
   "source": [
    "#dict, list 연습\n",
    "\n",
    "song_list = []\n",
    "for val in range(5):\n",
    "    song_dict = {}\n",
    "    song_dict['seq'] = val\n",
    "    song_dict['title'] = 'Dynamite'\n",
    "    #print(song_dict)\n",
    "    song_list.append(song_dict)\n",
    "\n",
    "song_list"
   ]
  },
  {
   "cell_type": "code",
   "execution_count": 19,
   "metadata": {},
   "outputs": [
    {
     "name": "stdout",
     "output_type": "stream",
     "text": [
      "a\n",
      "b\n",
      "c\tda\n",
      "b\n",
      "c\tda\n",
      "b\n",
      "c\td\n",
      "<class 're.Pattern'> re.compile('[\\\\n\\\\r\\\\t]')\n",
      "abcdabcdabcd\n"
     ]
    }
   ],
   "source": [
    "import re\n",
    "\n",
    "my_str = 'a\\nb\\nc\\td'*3\n",
    "print(my_str)\n",
    "\n",
    "#정규표현식\n",
    "regexp = re.compile(r'[\\n\\r\\t]')\n",
    "print(type(regexp),regexp)\n",
    "#pattern과 매칭되는 문자열을 찾아서 다른 문자열로 치환\n",
    "result = regexp.sub(\" \",my_str)\n",
    "result = result.replace(\" \",\"\")\n",
    "print(result)"
   ]
  },
  {
   "cell_type": "code",
   "execution_count": 1,
   "metadata": {},
   "outputs": [],
   "source": [
    "# tuple 형태로 여러개의 값을 반환하는 함수 선언\n",
    "def swap(a,b):\n",
    "    return (b,a)\n"
   ]
  },
  {
   "cell_type": "code",
   "execution_count": 2,
   "metadata": {},
   "outputs": [
    {
     "name": "stdout",
     "output_type": "stream",
     "text": [
      "20\n",
      "10\n"
     ]
    }
   ],
   "source": [
    "n1,n2 = swap(10,20)\n",
    "print(n1)\n",
    "print(n2)"
   ]
  },
  {
   "cell_type": "code",
   "execution_count": 7,
   "metadata": {},
   "outputs": [
    {
     "name": "stdout",
     "output_type": "stream",
     "text": [
      "<class 'int'>\n",
      "<class 'tuple'>\n"
     ]
    }
   ],
   "source": [
    "# 객체가 1개일땐 int, 여러개일땐 tuple인데 1개여도 tuple 되고싶으면 뒤에 , 찍어라\n",
    "my_tuple = (1)\n",
    "print(type(my_tuple))\n",
    "\n",
    "my_tuple2 = (1,)\n",
    "print(type(my_tuple2))"
   ]
  },
  {
   "cell_type": "code",
   "execution_count": 11,
   "metadata": {},
   "outputs": [
    {
     "name": "stdout",
     "output_type": "stream",
     "text": [
      "<zip object at 0x7fd4d12413c0>\n",
      "('정당', '민주당')\n",
      "('선거구', '서울은평구')\n",
      "{'정당': '민주당', '선거구': '서울은평구'}\n"
     ]
    }
   ],
   "source": [
    "# 국회의원현황 관련 기초 문법\n",
    "dt_list = ['정당','선거구']\n",
    "dd_list = ['민주당','서울은평구']\n",
    "print(zip(dt_list,dd_list))\n",
    "\n",
    "for data in zip(dt_list,dd_list):\n",
    "    print(data)\n",
    "    \n",
    "data_dict = dict(zip(dt_list,dd_list))\n",
    "print(data_dict)"
   ]
  },
  {
   "cell_type": "code",
   "execution_count": 13,
   "metadata": {},
   "outputs": [
    {
     "name": "stdout",
     "output_type": "stream",
     "text": [
      "(20대,21대)\n",
      "재선\n"
     ]
    }
   ],
   "source": [
    "temp = '재선(20대,21대)'\n",
    "print(temp[2:])\n",
    "print(temp[:2])"
   ]
  },
  {
   "cell_type": "code",
   "execution_count": 14,
   "metadata": {},
   "outputs": [],
   "source": [
    "from datetime import date"
   ]
  },
  {
   "cell_type": "code",
   "execution_count": 17,
   "metadata": {},
   "outputs": [
    {
     "name": "stdout",
     "output_type": "stream",
     "text": [
      "2020-10-23\n",
      "2020\n",
      "10\n",
      "23\n"
     ]
    }
   ],
   "source": [
    "#현재날짜\n",
    "today = date.today()\n",
    "print(today)\n",
    "print(today.year)\n",
    "print(today.month)\n",
    "print(today.day)"
   ]
  },
  {
   "cell_type": "code",
   "execution_count": 51,
   "metadata": {},
   "outputs": [
    {
     "name": "stdout",
     "output_type": "stream",
     "text": [
      "1960-06-04\n",
      "1960\n",
      "6\n",
      "4\n"
     ]
    }
   ],
   "source": [
    "#1960.06.04 \n",
    "#1960.12.05 \n",
    "birth = date(1960,6,4)\n",
    "print(birth)\n",
    "print(birth.year)\n",
    "print(birth.month)\n",
    "print(birth.day)"
   ]
  },
  {
   "cell_type": "code",
   "execution_count": 52,
   "metadata": {},
   "outputs": [
    {
     "data": {
      "text/plain": [
       "False"
      ]
     },
     "execution_count": 52,
     "metadata": {},
     "output_type": "execute_result"
    }
   ],
   "source": [
    "# 10월 23일 < 6월4일 -> False\n",
    "(today.month,today.day)<(birth.month,birth.day)"
   ]
  },
  {
   "cell_type": "code",
   "execution_count": 69,
   "metadata": {},
   "outputs": [
    {
     "name": "stdout",
     "output_type": "stream",
     "text": [
      "60\n"
     ]
    }
   ],
   "source": [
    "# 생일이 지났으면 그냥 하고, 생일이 안지났으면 나이를 -1 해줘야함\n",
    "age = today.year - birth.year-((today.month,today.day)<(birth.month,birth.day))\n",
    "print(age)"
   ]
  },
  {
   "cell_type": "code",
   "execution_count": 65,
   "metadata": {},
   "outputs": [],
   "source": [
    "from datetime import date\n",
    "\n",
    "def calc_age(birth):\n",
    "    #현재날짜\n",
    "    today = date.today() \n",
    "    print(today,birth)\n",
    "    print('year',today.year-birth.year)\n",
    "    print('month day',(today.month,today.day)<(birth.month,birth.day))\n",
    "    age = (today.year-birth.year)-((today.month,today.day)<(birth.month,birth.day))\n",
    "    print(age)\n",
    "    return age\n",
    "\n"
   ]
  },
  {
   "cell_type": "code",
   "execution_count": 71,
   "metadata": {},
   "outputs": [
    {
     "name": "stdout",
     "output_type": "stream",
     "text": [
      "2020-10-23 1988-12-25\n",
      "year 32\n",
      "month day True\n",
      "31\n"
     ]
    },
    {
     "data": {
      "text/plain": [
       "31"
      ]
     },
     "execution_count": 71,
     "metadata": {},
     "output_type": "execute_result"
    }
   ],
   "source": [
    "calc_age(date(1988,12,25))"
   ]
  },
  {
   "cell_type": "code",
   "execution_count": 72,
   "metadata": {},
   "outputs": [
    {
     "name": "stdout",
     "output_type": "stream",
     "text": [
      "2020-10-23 1991-05-01\n",
      "year 29\n",
      "month day False\n",
      "29\n"
     ]
    },
    {
     "data": {
      "text/plain": [
       "29"
      ]
     },
     "execution_count": 72,
     "metadata": {},
     "output_type": "execute_result"
    }
   ],
   "source": [
    "calc_age(date(1991,5,1))"
   ]
  },
  {
   "cell_type": "code",
   "execution_count": 1,
   "metadata": {},
   "outputs": [],
   "source": [
    "import os"
   ]
  },
  {
   "cell_type": "code",
   "execution_count": 1,
   "metadata": {},
   "outputs": [
    {
     "ename": "NameError",
     "evalue": "name 'os' is not defined",
     "output_type": "error",
     "traceback": [
      "\u001b[0;31m---------------------------------------------------------------------------\u001b[0m",
      "\u001b[0;31mNameError\u001b[0m                                 Traceback (most recent call last)",
      "\u001b[0;32m<ipython-input-1-3d6a6cf39316>\u001b[0m in \u001b[0;36m<module>\u001b[0;34m\u001b[0m\n\u001b[0;32m----> 1\u001b[0;31m \u001b[0mos\u001b[0m\u001b[0;34m.\u001b[0m\u001b[0mmkdir\u001b[0m\u001b[0;34m\u001b[0m\u001b[0;34m\u001b[0m\u001b[0m\n\u001b[0m",
      "\u001b[0;31mNameError\u001b[0m: name 'os' is not defined"
     ]
    }
   ],
   "source": [
    "os.mkdir"
   ]
  },
  {
   "cell_type": "code",
   "execution_count": 2,
   "metadata": {},
   "outputs": [
    {
     "name": "stdout",
     "output_type": "stream",
     "text": [
      "Hello\n",
      "Welcome\n",
      "to\n",
      "GeeksforGeeks\n"
     ]
    }
   ],
   "source": [
    "#함수의 아규먼트 갯수가 가변적인 경우\n",
    "def myFun(*argv):\n",
    "    for arg in argv:\n",
    "        print(arg)\n",
    "        \n",
    "myFun('Hello','Welcome','to','GeeksforGeeks')"
   ]
  },
  {
   "cell_type": "code",
   "execution_count": 3,
   "metadata": {},
   "outputs": [
    {
     "name": "stdout",
     "output_type": "stream",
     "text": [
      "<class 'dict'> {'first': 'Geeks', 'mid': 'for', 'last': 'Geeks'}\n",
      "first==Geeks\n",
      "mid==for\n",
      "last==Geeks\n"
     ]
    }
   ],
   "source": [
    "def myFun(**kwargs):\n",
    "    print(type(kwargs),kwargs)\n",
    "    for key, value in kwargs.items():\n",
    "        print('%s==%s'%(key,value))\n",
    "        \n",
    "#Driver code\n",
    "myFun(first='Geeks',mid='for',last='Geeks')"
   ]
  },
  {
   "cell_type": "code",
   "execution_count": 1,
   "metadata": {},
   "outputs": [
    {
     "data": {
      "text/plain": [
       "30"
      ]
     },
     "execution_count": 1,
     "metadata": {},
     "output_type": "execute_result"
    }
   ],
   "source": [
    "#lamda식 선언 하기 전 일반적인 함수\n",
    "def add(n1,n2):\n",
    "    return n1+n2\n",
    "add(10,20)"
   ]
  },
  {
   "cell_type": "code",
   "execution_count": 2,
   "metadata": {},
   "outputs": [
    {
     "data": {
      "text/plain": [
       "40"
      ]
     },
     "execution_count": 2,
     "metadata": {},
     "output_type": "execute_result"
    }
   ],
   "source": [
    "#함수를 정의할 때 Lamda식 형태 선언\n",
    "add2 = lambda n1,n2 :n1+n2\n",
    "add2(10,30)"
   ]
  },
  {
   "cell_type": "code",
   "execution_count": 4,
   "metadata": {},
   "outputs": [
    {
     "data": {
      "text/plain": [
       "'2222444'"
      ]
     },
     "execution_count": 4,
     "metadata": {},
     "output_type": "execute_result"
    }
   ],
   "source": [
    "myfunc = lambda mystr: mystr.replace(',','')\n",
    "myfunc('2222,444')"
   ]
  },
  {
   "cell_type": "code",
   "execution_count": null,
   "metadata": {},
   "outputs": [],
   "source": []
  }
 ],
 "metadata": {
  "kernelspec": {
   "display_name": "Python 3",
   "language": "python",
   "name": "python3"
  },
  "language_info": {
   "codemirror_mode": {
    "name": "ipython",
    "version": 3
   },
   "file_extension": ".py",
   "mimetype": "text/x-python",
   "name": "python",
   "nbconvert_exporter": "python",
   "pygments_lexer": "ipython3",
   "version": "3.8.3"
  }
 },
 "nbformat": 4,
 "nbformat_minor": 4
}
