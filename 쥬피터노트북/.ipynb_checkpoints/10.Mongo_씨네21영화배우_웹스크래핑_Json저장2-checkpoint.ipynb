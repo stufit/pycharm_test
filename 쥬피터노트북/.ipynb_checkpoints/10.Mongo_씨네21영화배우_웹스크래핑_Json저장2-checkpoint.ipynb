{
 "cells": [
  {
   "cell_type": "markdown",
   "metadata": {},
   "source": [
    "### Cine21 영화배우 정보 웹스크래핑\n",
    "1. Site 주소 : http://www.cine21.com/rank/person/\n",
    "2. Request URL : http://www.cine21.com/rank/person/content   \n",
    "  - 크롬 개발자 도구의 network 탭에서 xhr 인 것만 필터링 \n",
    "3. Request Method : POST\n",
    "4. Form Data \n",
    " - section: actor\n",
    " - period_start: 2020-09\n",
    " - gender: all\n",
    " - page: 1\n",
    "5. 2년치 데이터를 한꺼번에 스크래핑 해서 actors.json 파일로 저장 "
   ]
  },
  {
   "cell_type": "code",
   "execution_count": 1,
   "metadata": {},
   "outputs": [],
   "source": [
    "import requests\n",
    "from bs4 import BeautifulSoup\n",
    "import re\n",
    "from urllib.parse import urljoin\n"
   ]
  },
  {
   "cell_type": "markdown",
   "metadata": {},
   "source": [
    "### 1단계 \n",
    "* 1 page 7명의 정보만 추출"
   ]
  },
  {
   "cell_type": "markdown",
   "metadata": {},
   "source": [
    "### 정규표현식 (regular expression)\n",
    "* \\w는 word를 표현하며 알파벳 + 숫자 + _ 중의 한 문자임을 의미한다.\n",
    "* 문자가 출현한 횟수를 나타낼때 \n",
    " <pre>   \n",
    "  * : 0 ~ n,  + : 1 ~ n , ? : 0(zero) or 1 \n",
    " </pre> \n",
    "* 정규표현식에 특수문자를 사용할때는 특수문자 앞에 \\(back slash)를 반드시 주어야 한다 "
   ]
  },
  {
   "cell_type": "code",
   "execution_count": 3,
   "metadata": {},
   "outputs": [
    {
     "name": "stdout",
     "output_type": "stream",
     "text": [
      "200\n",
      "성동일 http://www.cine21.com/db/person/info/?person_id=27826\n",
      "하지원 http://www.cine21.com/db/person/info/?person_id=15917\n",
      "김희원 http://www.cine21.com/db/person/info/?person_id=66374\n",
      "유아인 http://www.cine21.com/db/person/info/?person_id=57657\n",
      "박소이 http://www.cine21.com/db/person/info/?person_id=108056\n",
      "유재명 http://www.cine21.com/db/person/info/?person_id=84938\n",
      "나문희 http://www.cine21.com/db/person/info/?person_id=6126\n"
     ]
    }
   ],
   "source": [
    "req_url = 'http://www.cine21.com/rank/person/content'\n",
    "req_param = {\n",
    "    'section': 'actor',\n",
    "    'period_start': '2020-09',\n",
    "    'gender': 'all',\n",
    "    'page': 1\n",
    "}\n",
    "res = requests.post(req_url, data=req_param)\n",
    "print(res.status_code)\n",
    "if res.ok:\n",
    "    soup = BeautifulSoup(res.text, 'html.parser')\n",
    "    \n",
    "    for li_tag in soup.select('li.people_li'):\n",
    "        #print(li_tag.select('div.name'))\n",
    "        div_tag = li_tag.select_one('div.name')\n",
    "        detail_url = div_tag.select_one('a')['href']\n",
    "        detail_url = urljoin(req_url,detail_url)\n",
    "        name = div_tag.text\n",
    "        result = re.sub('\\(\\w*\\)','',name)\n",
    "        print(result, detail_url)\n",
    "                       \n",
    "#         res = requests.get(detail_url)\n",
    "#         if res.ok:\n",
    "#             soup = BeautifulSoup(res.text,'html.parser')\n",
    "#             for li_tag in soup.select('ul.default_info li'):\n",
    "#                 actor_dict_key = li_tag.select_one('span.tit').text\n",
    "#                 print(li_tag)"
   ]
  },
  {
   "cell_type": "code",
   "execution_count": null,
   "metadata": {},
   "outputs": [],
   "source": []
  }
 ],
 "metadata": {
  "kernelspec": {
   "display_name": "Python 3",
   "language": "python",
   "name": "python3"
  },
  "language_info": {
   "codemirror_mode": {
    "name": "ipython",
    "version": 3
   },
   "file_extension": ".py",
   "mimetype": "text/x-python",
   "name": "python",
   "nbconvert_exporter": "python",
   "pygments_lexer": "ipython3",
   "version": "3.8.3"
  }
 },
 "nbformat": 4,
 "nbformat_minor": 4
}
