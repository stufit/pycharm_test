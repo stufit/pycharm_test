{
 "cells": [
  {
   "cell_type": "code",
   "execution_count": 1,
   "metadata": {},
   "outputs": [
    {
     "name": "stdout",
     "output_type": "stream",
     "text": [
      "b''\n"
     ]
    }
   ],
   "source": [
    "import bs4\n",
    "import urllib.request\n",
    "\n",
    "myHtml = \"\"\"\n",
    "    <html>\n",
    "        <table border=1>\n",
    "            <tr>\n",
    "                <td>항목</td>\n",
    "                <td>2013</td>\n",
    "                <td>2014</td>\n",
    "                <td>2015</td>\n",
    "            </tr>\n",
    "            <tr>\n",
    "                <td>매출액</td>\n",
    "                <td>100</td>\n",
    "                <td>200</td>\n",
    "                <td>300</td>\n",
    "            </tr>\n",
    "        </table>\n",
    "    </html>\n",
    "\"\"\"\n",
    "\n",
    "# bsObj = bs4.BeautifulSoup(myHtml,'html.parser')\n",
    "#print(bsObj)\n",
    "#print(type(bsObj))\n",
    "# print(bsObj.find('td'))\n",
    "#\n",
    "# num = len(bsObj.find_all('td'))\n",
    "# for i in range(0, num):\n",
    "#\n",
    "#     print(bsObj.find_all(\"td\")[i].get_text())\n",
    "url = 'https://www.koita.or.kr/main/main.aspx'\n",
    "koita = urllib.request.urlopen(url)\n",
    "\n",
    "bsObj = bs4.BeautifulSoup(koita, 'html.parser')\n",
    "print(koita.read())\n"
   ]
  },
  {
   "cell_type": "code",
   "execution_count": 2,
   "metadata": {},
   "outputs": [
    {
     "name": "stdout",
     "output_type": "stream",
     "text": [
      "b''\n"
     ]
    }
   ],
   "source": [
    "import urllib.request\n",
    "url = 'https://www.koita.or.kr/main/main.aspx'\n",
    "koita = urllib.request.urlopen(url)\n",
    "\n",
    "bsObj = bs4.BeautifulSoup(koita, 'html.parser')\n",
    "print(koita.read())"
   ]
  },
  {
   "cell_type": "code",
   "execution_count": 4,
   "metadata": {},
   "outputs": [
    {
     "name": "stdout",
     "output_type": "stream",
     "text": [
      "b''\n",
      "None\n"
     ]
    }
   ],
   "source": [
    "import bs4\n",
    "import urllib.request\n",
    "url = 'https://www.koita.or.kr/main/main.aspx'\n",
    "koita = urllib.request.urlopen(url)\n",
    "\n",
    "bsObj = bs4.BeautifulSoup(koita, 'html.parser')\n",
    "print(koita.read())\n",
    "divStr = bsObj.find('div',{'id':'header'})\n",
    "print(divStr)"
   ]
  },
  {
   "cell_type": "code",
   "execution_count": 5,
   "metadata": {},
   "outputs": [
    {
     "name": "stdout",
     "output_type": "stream",
     "text": [
      "Requirement already satisfied: bs4 in /Users/gaegul/opt/anaconda3/lib/python3.8/site-packages (0.0.1)\n",
      "Requirement already satisfied: beautifulsoup4 in /Users/gaegul/opt/anaconda3/lib/python3.8/site-packages (from bs4) (4.9.1)\n",
      "Requirement already satisfied: soupsieve>1.2 in /Users/gaegul/opt/anaconda3/lib/python3.8/site-packages (from beautifulsoup4->bs4) (2.0.1)\n",
      "Note: you may need to restart the kernel to use updated packages.\n"
     ]
    }
   ],
   "source": [
    "pip install bs4"
   ]
  },
  {
   "cell_type": "code",
   "execution_count": 7,
   "metadata": {},
   "outputs": [
    {
     "ename": "IndentationError",
     "evalue": "unindent does not match any outer indentation level (<tokenize>, line 59)",
     "output_type": "error",
     "traceback": [
      "\u001b[0;36m  File \u001b[0;32m\"<tokenize>\"\u001b[0;36m, line \u001b[0;32m59\u001b[0m\n\u001b[0;31m    </div>\u001b[0m\n\u001b[0m    ^\u001b[0m\n\u001b[0;31mIndentationError\u001b[0m\u001b[0;31m:\u001b[0m unindent does not match any outer indentation level\n"
     ]
    }
   ],
   "source": [
    "<div class=\"inner \">\n",
    "\t\t\t\t\t\t<div class=\"txt-area\">\n",
    "\t\t\t\t\t\t\t<h2>KOITA 주요사업</h2>\n",
    "\t\t\t\t\t\t\t<p class=\"h-txt\">경계 없는 혁신 리더십을 경험하세요</p>\n",
    "\t\t\t\t\t\t</div>\n",
    "\t\t\t\t\t\t<ul class=\"clearfix ddvdv\">\n",
    "\t\t\t\t\t\t\t\n",
    "\t\t\t\t\t\t\t\t\t<li><a href=\"https://www.rnd.or.kr/user/main.do\"><span>기업연구소/연구개발전담부서</span></a></li>\n",
    "\t\t\t\t\t\t\t\t\n",
    "\t\t\t\t\t\t\t\t\t<li><a href=\"https://www.koita.or.kr/submain/submain_1.aspx\"><span>시상인증</span></a></li>\n",
    "\t\t\t\t\t\t\t\t\n",
    "\t\t\t\t\t\t\t\t\t<li><a href=\"https://www.koita.or.kr/submain/submain_5.aspx\"><span>교육연수</span></a></li>\n",
    "\t\t\t\t\t\t\t\t\n",
    "\t\t\t\t\t\t\t\t\t<li><a href=\"https://www.rndjm.or.kr/index.asp\"><span>전문연구요원제도</span></a></li>\n",
    "\t\t\t\t\t\t\t\t\n",
    "\t\t\t\t\t\t\t\t\t<li><a href=\"https://www.netmark.or.kr/index.asp\"><span>신기술(NET) 인증</span></a></li>\n",
    "\t\t\t\t\t\t\t\t\n",
    "\t\t\t\t\t\t\t\t\t<li><a href=\"https://www.koita.or.kr/notice/notice_list.aspx\"><span>공지사항</span></a></li>\n",
    "\t\t\t\t\t\t\t\t\n",
    "\t\t\t\t\t\t\t\t\t<li><a href=\"https://www.sos1379.go.kr/\"><span>기업공감원스톱지원센터</span></a></li>\n",
    "\t\t\t\t\t\t\t\t\n",
    "\t\t\t\t\t\t\t\t\t<li><a href=\"http://www.nepmark.or.kr/\"><span>신제품(NEP) 인증</span></a></li>\n",
    "\t\t\t\t\t\t\t\t\n",
    "\t\t\t\t\t\t\t\t\t<li><a href=\"https://www.koita.or.kr/certificate/prnd_board2_list.aspx\"><span>정부사업공고</span></a></li>\n",
    "\t\t\t\t\t\t\t\t\n",
    "\t\t\t\t\t\t\t\t\t<li><a href=\"http://www.rndjob.or.kr/\"><span>이공계인력중개센터</span></a></li>\n",
    "\t\t\t\t\t\t\t\t\n",
    "\t\t\t\t\t\t\t\t\t<li><a href=\"https://www.ir52.com/index.asp\"><span>IR52장영실상</span></a></li>\n",
    "\t\t\t\t\t\t\t\t\n",
    "\t\t\t\t\t\t\t\t\t<li><a href=\"https://www.koita.or.kr/submain/submain_3.aspx\"><span>산기협 교류회</span></a></li>\n",
    "\t\t\t\t\t\t\t\t\n",
    "\t\t\t\t\t\t\t\t\t<li><a href=\"https://www.koita.or.kr/certificate/rndsupport_1.aspx\"><span>R&amp;D지원제도</span></a></li>\n",
    "\t\t\t\t\t\t\t\t\n",
    "\t\t\t\t\t\t\t\t\t<li><a href=\"https://www.koita.or.kr/submain/submain_0.aspx\"><span>기술개발지원</span></a></li>\n",
    "\t\t\t\t\t\t\t\t\n",
    "\t\t\t\t\t\t\t\t\t<li><a href=\"https://www.koita.or.kr/mem_service/why_koita.aspx\"><span>협회소개</span></a></li>\n",
    "\t\t\t\t\t\t\t\t\n",
    "\t\t\t\t\t\t\t\t\t<li><a href=\"/mem_knowledge/iprnd_intro.aspx\"><span>특허분석(IP-R&amp;D) 서비스</span></a></li>\n",
    "\t\t\t\t\t\t\t\t\n",
    "\t\t\t\t\t\t\t\t\t<li><a href=\"/mem_knowledge/ktip_list.aspx?tab=2\"><span>최신기술동향 정보</span></a></li>\n",
    "\t\t\t\t\t\t\t\t\n",
    "\t\t\t\t\t\t</ul>\n",
    "\n",
    "\t\t\t\t\t\t<div class=\"sch-form \">\n",
    "\t\t\t\t\t\t\t<h2 class=\"hide\">Search form</h2>\n",
    "\t\t\t\t\t\t\t<div class=\"form-elements\">\n",
    "\t\t\t\t\t\t\t\t<form name=\"top_search_form\" onsubmit=\"return top_search()\">\n",
    "\t\t\t\t\t\t\t\t\t<div class=\"ip_w\">\n",
    "\t\t\t\t\t\t\t\t\t\t<label class=\"hide\" for=\"\">검색 </label>\n",
    "\t\t\t\t\t\t\t\t\t\t<input type=\"text\" class=\"ipt\" name=\"q\" value=\"\" placeholder=\"검색\" size=\"15\" maxlength=\"128\">\n",
    "\t\t\t\t\t\t\t\t\t</div>\n",
    "\t\t\t\t\t\t\t\t\t<button class=\"sch-btn\">\n",
    "\t\t\t\t\t\t\t\t\t\t<i class=\"sch_icon\"></i>\n",
    "\t\t\t\t\t\t\t\t\t\t<span class=\"hide\">검색</span>\n",
    "\t\t\t\t\t\t\t\t\t</button>\n",
    "\t\t\t\t\t\t\t\t</form>\n",
    "\t\t\t\t\t\t\t</div>\n",
    "\t\t\t\t\t\t</div>\n",
    "\t\t\t\t\t</div>"
   ]
  },
  {
   "cell_type": "code",
   "execution_count": 11,
   "metadata": {},
   "outputs": [
    {
     "name": "stdout",
     "output_type": "stream",
     "text": [
      "b''\n",
      "None\n"
     ]
    }
   ],
   "source": [
    "import bs4\n",
    "import urllib.request\n",
    "\n",
    "url = 'https://www.koita.or.kr/main/main.aspx'\n",
    "koita = urllib.request.urlopen(url)\n",
    "\n",
    "bsObj = bs4.BeautifulSoup(koita, 'html.parser')\n",
    "print(koita.read())\n",
    "divStr = bsObj.find('div',{'class':'header'})\n",
    "print(divStr)"
   ]
  },
  {
   "cell_type": "code",
   "execution_count": null,
   "metadata": {},
   "outputs": [],
   "source": []
  }
 ],
 "metadata": {
  "kernelspec": {
   "display_name": "Python 3",
   "language": "python",
   "name": "python3"
  },
  "language_info": {
   "codemirror_mode": {
    "name": "ipython",
    "version": 3
   },
   "file_extension": ".py",
   "mimetype": "text/x-python",
   "name": "python",
   "nbconvert_exporter": "python",
   "pygments_lexer": "ipython3",
   "version": "3.8.3"
  }
 },
 "nbformat": 4,
 "nbformat_minor": 4
}
