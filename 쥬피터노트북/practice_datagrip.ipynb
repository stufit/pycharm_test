{
 "cells": [
  {
   "cell_type": "code",
   "execution_count": 1,
   "metadata": {},
   "outputs": [],
   "source": [
    "import pymysql"
   ]
  },
  {
   "cell_type": "code",
   "execution_count": 30,
   "metadata": {},
   "outputs": [],
   "source": [
    "sql = \"\"\"\n",
    "CREATE TABLE school (\n",
    "    id INT UNSIGNED NOT NULL AUTO_INCREMENT,\n",
    "    name VARCHAR(20) NOT NULL,\n",
    "    height VARCHAR(10) NOT NULL,\n",
    "    weight VARCHAR(10) NOT NULL,\n",
    "    PRIMARY KEY(id)\n",
    ");\n",
    "\"\"\""
   ]
  },
  {
   "cell_type": "code",
   "execution_count": 31,
   "metadata": {},
   "outputs": [
    {
     "name": "stdout",
     "output_type": "stream",
     "text": [
      "insert into school (name,height,weight) values (%s, %s, %s)\n",
      "1\n",
      "insert into school (name,height,weight) values (%s, %s, %s)\n",
      "2\n",
      "insert into school (name,height,weight) values (%s, %s, %s)\n",
      "3\n",
      "insert into school (name,height,weight) values (%s, %s, %s)\n",
      "4\n",
      "insert into school (name,height,weight) values (%s, %s, %s)\n",
      "5\n"
     ]
    }
   ],
   "source": [
    "db = pymysql.connect(host=\"localhost\",user=\"python\",password=\"python\",\\\n",
    "                      db='python_db',port=3306,charset='utf8')\n",
    "\n",
    "try:\n",
    "    with db.cursor() as cursor:\n",
    "        cursor.execute(sql)\n",
    "        db.commit()\n",
    "        \n",
    "        for num in range(10,15):\n",
    "            name= 'Y20'+str(num)\n",
    "            ins_sql = 'insert into school (name,height,weight) values (%s, %s, %s)'\n",
    "            cursor.execute(ins_sql,(name,'180cm','80kg'))\n",
    "            print(ins_sql)\n",
    "            db.commit()\n",
    "            print(cursor.lastrowid)\n",
    "finally:\n",
    "    db.commit()\n",
    "            \n",
    "\n"
   ]
  },
  {
   "cell_type": "code",
   "execution_count": 34,
   "metadata": {},
   "outputs": [],
   "source": [
    "import pymysql\n",
    "\n",
    "db = pymysql.connect(host='localhost', port=3306, db='python_db',\\\n",
    "                    user='python',passwd='python',charset='utf8')\n",
    "\n",
    "try:\n",
    "    with db.cursor() as cursor:\n",
    "        upd_sql = \"update school set height='%s' where name between 'Y2012' and 'Y2014'\" %'거인'\n",
    "        cursor.execute(upd_sql)\n",
    "        db.commit()\n",
    "        \n",
    "finally:\n",
    "    db.close()"
   ]
  },
  {
   "cell_type": "code",
   "execution_count": null,
   "metadata": {},
   "outputs": [],
   "source": []
  }
 ],
 "metadata": {
  "kernelspec": {
   "display_name": "Python 3",
   "language": "python",
   "name": "python3"
  },
  "language_info": {
   "codemirror_mode": {
    "name": "ipython",
    "version": 3
   },
   "file_extension": ".py",
   "mimetype": "text/x-python",
   "name": "python",
   "nbconvert_exporter": "python",
   "pygments_lexer": "ipython3",
   "version": "3.8.3"
  }
 },
 "nbformat": 4,
 "nbformat_minor": 4
}
