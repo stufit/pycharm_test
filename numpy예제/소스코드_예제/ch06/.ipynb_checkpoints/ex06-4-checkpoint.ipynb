{
 "cells": [
  {
   "cell_type": "markdown",
   "metadata": {},
   "source": [
    "# 6.4 데이터형 객체의 개념"
   ]
  },
  {
   "cell_type": "code",
   "execution_count": 1,
   "metadata": {},
   "outputs": [
    {
     "name": "stdout",
     "output_type": "stream",
     "text": [
      "x(함수): 5\n",
      "x(메인): 3\n"
     ]
    }
   ],
   "source": [
    "#p117\n",
    "def func(x):\n",
    "    x = 5\n",
    "    print('x(함수):', x)\n",
    "x = 3\n",
    "func(x)\n",
    "print('x(메인):', x)"
   ]
  },
  {
   "cell_type": "code",
   "execution_count": 2,
   "metadata": {},
   "outputs": [
    {
     "name": "stdout",
     "output_type": "stream",
     "text": [
      "a= 3 b= 5\n",
      "1: id(a) 1811442816 idb(b) 1811442880\n",
      "2: id(aa) 1811442816 id(bb) 1811442880\n",
      "3: id(ab) 1811442880 id(b) 1811442816\n",
      "a= 5 b= 3\n"
     ]
    }
   ],
   "source": [
    "#p118\n",
    "def swap(aa, bb):\n",
    "    print('2: id(aa)', id(aa), 'id(bb)', id(bb))\n",
    "    return bb, aa\n",
    "a=3\n",
    "b=5\n",
    "print('a=', a, 'b=', b)\n",
    "print('1: id(a)', id(a), 'idb(b)', id(b))\n",
    "a, b = swap(a, b)\n",
    "print('3: id(ab)', id(a), 'id(b)', id(b))\n",
    "print('a=', a, 'b=', b)"
   ]
  },
  {
   "cell_type": "code",
   "execution_count": null,
   "metadata": {},
   "outputs": [],
   "source": []
  }
 ],
 "metadata": {
  "kernelspec": {
   "display_name": "Python 3",
   "language": "python",
   "name": "python3"
  },
  "language_info": {
   "codemirror_mode": {
    "name": "ipython",
    "version": 3
   },
   "file_extension": ".py",
   "mimetype": "text/x-python",
   "name": "python",
   "nbconvert_exporter": "python",
   "pygments_lexer": "ipython3",
   "version": "3.6.5"
  }
 },
 "nbformat": 4,
 "nbformat_minor": 2
}
