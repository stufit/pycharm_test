{
 "cells": [
  {
   "cell_type": "markdown",
   "metadata": {},
   "source": [
    "# 6.2 클래스로 객체 만들기"
   ]
  },
  {
   "cell_type": "code",
   "execution_count": 1,
   "metadata": {},
   "outputs": [
    {
     "name": "stdout",
     "output_type": "stream",
     "text": [
      "이름: 준서\n"
     ]
    }
   ],
   "source": [
    "#p114\n",
    "# 클래스 선언\n",
    "class You:\n",
    "    name = ''      # 멤버변수(속성) 정의\n",
    "    def setname(self, n):\n",
    "        self.name = n\n",
    "    def show(self):\n",
    "        print('이름:', self.name)\n",
    "\n",
    "# main 부분\n",
    "my = You()         # 클래스 You로 객체 my를 생성!\n",
    "my.setname('준서')\n",
    "my.show()"
   ]
  },
  {
   "cell_type": "code",
   "execution_count": 2,
   "metadata": {},
   "outputs": [
    {
     "name": "stdout",
     "output_type": "stream",
     "text": [
      "이름: 준서\n"
     ]
    }
   ],
   "source": [
    "class You:\n",
    "    def setname(self, n):\n",
    "        self.name = n\n",
    "    def show(self):\n",
    "        print('이름:', self.name)\n",
    "my = You()\n",
    "my.setname('준서')\n",
    "my.show()"
   ]
  },
  {
   "cell_type": "code",
   "execution_count": null,
   "metadata": {},
   "outputs": [],
   "source": []
  }
 ],
 "metadata": {
  "kernelspec": {
   "display_name": "Python 3",
   "language": "python",
   "name": "python3"
  },
  "language_info": {
   "codemirror_mode": {
    "name": "ipython",
    "version": 3
   },
   "file_extension": ".py",
   "mimetype": "text/x-python",
   "name": "python",
   "nbconvert_exporter": "python",
   "pygments_lexer": "ipython3",
   "version": "3.6.5"
  }
 },
 "nbformat": 4,
 "nbformat_minor": 2
}
