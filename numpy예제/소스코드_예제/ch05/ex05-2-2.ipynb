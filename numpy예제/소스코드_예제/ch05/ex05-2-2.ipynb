{
 "cells": [
  {
   "cell_type": "markdown",
   "metadata": {},
   "source": [
    "# 5.2 배열의 종류\n",
    "## 튜플"
   ]
  },
  {
   "cell_type": "code",
   "execution_count": 1,
   "metadata": {},
   "outputs": [
    {
     "name": "stdout",
     "output_type": "stream",
     "text": [
      "('사과', '오렌지', 1020, 880)\n"
     ]
    }
   ],
   "source": [
    "#p94\n",
    "empty = ()         # 빈 튜플을 생성! 또는 empty = tuple()\n",
    "animals = ('토끼', '사자', '원숭이')\n",
    "fruits = '사과', '오렌지', 1020, 880\n",
    "start = '하나', '둘'\n",
    "print(fruits)"
   ]
  },
  {
   "cell_type": "code",
   "execution_count": 2,
   "metadata": {},
   "outputs": [
    {
     "name": "stdout",
     "output_type": "stream",
     "text": [
      "오렌지\n",
      "('오렌지', 1020)\n"
     ]
    }
   ],
   "source": [
    "#p95\n",
    "print(fruits[1])     # 인덱싱 가능\n",
    "print(fruits[1:3])   # 슬라이싱 가능"
   ]
  },
  {
   "cell_type": "code",
   "execution_count": 3,
   "metadata": {},
   "outputs": [
    {
     "ename": "TypeError",
     "evalue": "'tuple' object does not support item assignment",
     "output_type": "error",
     "traceback": [
      "\u001b[1;31m---------------------------------------------------------------------------\u001b[0m",
      "\u001b[1;31mTypeError\u001b[0m                                 Traceback (most recent call last)",
      "\u001b[1;32m<ipython-input-3-23340fb68226>\u001b[0m in \u001b[0;36m<module>\u001b[1;34m()\u001b[0m\n\u001b[1;32m----> 1\u001b[1;33m \u001b[0mfruits\u001b[0m\u001b[1;33m[\u001b[0m\u001b[1;36m1\u001b[0m\u001b[1;33m]\u001b[0m \u001b[1;33m=\u001b[0m \u001b[1;34m'키위'\u001b[0m\u001b[1;33m\u001b[0m\u001b[0m\n\u001b[0m",
      "\u001b[1;31mTypeError\u001b[0m: 'tuple' object does not support item assignment"
     ]
    }
   ],
   "source": [
    "fruits[1] = '키위'"
   ]
  },
  {
   "cell_type": "code",
   "execution_count": 4,
   "metadata": {},
   "outputs": [
    {
     "name": "stdout",
     "output_type": "stream",
     "text": [
      "(('토끼', '사자', '원숭이'), ('사과', '오렌지', 1020, 88))\n"
     ]
    }
   ],
   "source": [
    "animals = ('토끼', '사자', '원숭이')\n",
    "fruits = '사과', '오렌지', 1020, 88,\n",
    "things = animals, fruits\n",
    "print(things)"
   ]
  },
  {
   "cell_type": "code",
   "execution_count": 5,
   "metadata": {},
   "outputs": [
    {
     "name": "stdout",
     "output_type": "stream",
     "text": [
      "['사과', '키위']\n"
     ]
    }
   ],
   "source": [
    "#p96\n",
    "fruits = (['포도', '망고'], ['사과', '키위'])\n",
    "print(fruits[1])"
   ]
  },
  {
   "cell_type": "code",
   "execution_count": 6,
   "metadata": {},
   "outputs": [
    {
     "ename": "TypeError",
     "evalue": "'tuple' object does not support item assignment",
     "output_type": "error",
     "traceback": [
      "\u001b[1;31m---------------------------------------------------------------------------\u001b[0m",
      "\u001b[1;31mTypeError\u001b[0m                                 Traceback (most recent call last)",
      "\u001b[1;32m<ipython-input-6-3394754487ec>\u001b[0m in \u001b[0;36m<module>\u001b[1;34m()\u001b[0m\n\u001b[0;32m      1\u001b[0m \u001b[0mfruits\u001b[0m \u001b[1;33m=\u001b[0m \u001b[1;33m(\u001b[0m\u001b[1;33m[\u001b[0m\u001b[1;34m'포도'\u001b[0m\u001b[1;33m,\u001b[0m \u001b[1;34m'망고'\u001b[0m\u001b[1;33m]\u001b[0m\u001b[1;33m,\u001b[0m \u001b[1;33m[\u001b[0m\u001b[1;34m'사과'\u001b[0m\u001b[1;33m,\u001b[0m \u001b[1;34m'키위'\u001b[0m\u001b[1;33m]\u001b[0m\u001b[1;33m)\u001b[0m\u001b[1;33m\u001b[0m\u001b[0m\n\u001b[0;32m      2\u001b[0m \u001b[0mnewfruits\u001b[0m \u001b[1;33m=\u001b[0m \u001b[1;33m[\u001b[0m\u001b[1;34m'수박'\u001b[0m\u001b[1;33m,\u001b[0m \u001b[1;34m'참외'\u001b[0m\u001b[1;33m]\u001b[0m\u001b[1;33m\u001b[0m\u001b[0m\n\u001b[1;32m----> 3\u001b[1;33m \u001b[0mfruits\u001b[0m\u001b[1;33m[\u001b[0m\u001b[1;36m1\u001b[0m\u001b[1;33m]\u001b[0m \u001b[1;33m=\u001b[0m \u001b[0mnewfruits\u001b[0m\u001b[1;33m\u001b[0m\u001b[0m\n\u001b[0m",
      "\u001b[1;31mTypeError\u001b[0m: 'tuple' object does not support item assignment"
     ]
    }
   ],
   "source": [
    "fruits = (['포도', '망고'], ['사과', '키위'])\n",
    "newfruits = ['수박', '참외']\n",
    "fruits[1] = newfruits"
   ]
  },
  {
   "cell_type": "code",
   "execution_count": 7,
   "metadata": {},
   "outputs": [
    {
     "name": "stdout",
     "output_type": "stream",
     "text": [
      "[('수박', '참외'), ('사과', '키위')]\n"
     ]
    }
   ],
   "source": [
    "fruits = [('포도', '망고'), ('사과', '키위')]\n",
    "fruits[0] = ('수박', '참외')\n",
    "print(fruits)"
   ]
  },
  {
   "cell_type": "code",
   "execution_count": 8,
   "metadata": {},
   "outputs": [
    {
     "name": "stdout",
     "output_type": "stream",
     "text": [
      "(['포도', '망고'], ['수박', '키위'])\n"
     ]
    }
   ],
   "source": [
    "fruits = (['포도', '망고'], ['사과', '키위'])\n",
    "fruits[1][0] = '수박'\n",
    "print(fruits)"
   ]
  },
  {
   "cell_type": "markdown",
   "metadata": {},
   "source": [
    "### 리스트와 비교한 튜플의 기능들\n",
    "#### 슬라이싱"
   ]
  },
  {
   "cell_type": "code",
   "execution_count": 9,
   "metadata": {},
   "outputs": [
    {
     "data": {
      "text/plain": [
       "(5, 3)"
      ]
     },
     "execution_count": 9,
     "metadata": {},
     "output_type": "execute_result"
    }
   ],
   "source": [
    "#p97\n",
    "dice = (3, 2, 5, 3, 4)\n",
    "dice[2:4]"
   ]
  },
  {
   "cell_type": "markdown",
   "metadata": {},
   "source": [
    "#### 병합"
   ]
  },
  {
   "cell_type": "code",
   "execution_count": 10,
   "metadata": {},
   "outputs": [
    {
     "name": "stdout",
     "output_type": "stream",
     "text": [
      "packing: (12.23, 23.34)\n",
      "c1: 12.23\n",
      "c2: 23.34\n"
     ]
    }
   ],
   "source": [
    "x = 12.23\n",
    "y = 23.34\n",
    "packing = (x, y)      # packing!\n",
    "type(packing)\n",
    "print('packing:', packing)\n",
    "(c1, c2) = packing    # unpacking!\n",
    "print('c1:', c1)\n",
    "print('c2:', c2)"
   ]
  },
  {
   "cell_type": "code",
   "execution_count": 11,
   "metadata": {},
   "outputs": [
    {
     "name": "stdout",
     "output_type": "stream",
     "text": [
      "(3, 2, 5, 3, 4, 6, 1, 4, 2, 3)\n"
     ]
    }
   ],
   "source": [
    "dice1 = (3, 2, 5, 3, 4)\n",
    "dice2 = (6, 1, 4, 2, 3)\n",
    "dice3 = (dice1 + dice2)\n",
    "print(dice3)"
   ]
  },
  {
   "cell_type": "markdown",
   "metadata": {},
   "source": [
    "#### 존재여부"
   ]
  },
  {
   "cell_type": "code",
   "execution_count": 12,
   "metadata": {},
   "outputs": [
    {
     "name": "stdout",
     "output_type": "stream",
     "text": [
      "True\n",
      "False\n"
     ]
    }
   ],
   "source": [
    "#p98\n",
    "dice = (3, 2, 5, 3, 4)\n",
    "print(2 in dice)\n",
    "print(2 not in dice)"
   ]
  },
  {
   "cell_type": "markdown",
   "metadata": {},
   "source": [
    "#### 반복"
   ]
  },
  {
   "cell_type": "code",
   "execution_count": 13,
   "metadata": {},
   "outputs": [
    {
     "name": "stdout",
     "output_type": "stream",
     "text": [
      "(1, 2, 3, 1, 2, 3)\n"
     ]
    }
   ],
   "source": [
    "a = (1, 2, 3)\n",
    "b = a * 2\n",
    "print(b)"
   ]
  },
  {
   "cell_type": "markdown",
   "metadata": {},
   "source": [
    "#### 원소의 개수 측정"
   ]
  },
  {
   "cell_type": "code",
   "execution_count": 14,
   "metadata": {},
   "outputs": [
    {
     "name": "stdout",
     "output_type": "stream",
     "text": [
      "3\n"
     ]
    }
   ],
   "source": [
    "dice = (1, 2, 3)\n",
    "print(len(dice))"
   ]
  },
  {
   "cell_type": "markdown",
   "metadata": {},
   "source": [
    "#### 검색 기능\n",
    "##### 빈도수 검사"
   ]
  },
  {
   "cell_type": "code",
   "execution_count": 15,
   "metadata": {},
   "outputs": [
    {
     "name": "stdout",
     "output_type": "stream",
     "text": [
      "2\n"
     ]
    }
   ],
   "source": [
    "#p99\n",
    "dice = (5, 3, 1, 2, 3, 6)\n",
    "print(dice.count(3))"
   ]
  },
  {
   "cell_type": "markdown",
   "metadata": {},
   "source": [
    "##### 인덱스번호 찾기"
   ]
  },
  {
   "cell_type": "code",
   "execution_count": 16,
   "metadata": {},
   "outputs": [
    {
     "name": "stdout",
     "output_type": "stream",
     "text": [
      "1\n"
     ]
    }
   ],
   "source": [
    "dice = (5, 3, 1, 2, 3, 6)\n",
    "print(dice.index(3))"
   ]
  },
  {
   "cell_type": "markdown",
   "metadata": {},
   "source": [
    "### 2차원 튜플"
   ]
  },
  {
   "cell_type": "code",
   "execution_count": 17,
   "metadata": {},
   "outputs": [
    {
     "name": "stdout",
     "output_type": "stream",
     "text": [
      "((6, 1, 4), (5, 2, 1))\n",
      "2\n"
     ]
    }
   ],
   "source": [
    "dice1 = (6, 1, 4)\n",
    "dice2 = (5, 2, 1)\n",
    "result = (dice1, dice2)\n",
    "print(result)\n",
    "print(result[1][1])"
   ]
  },
  {
   "cell_type": "markdown",
   "metadata": {},
   "source": [
    "#### [참고] 튜플 포매팅"
   ]
  },
  {
   "cell_type": "code",
   "execution_count": 18,
   "metadata": {},
   "outputs": [
    {
     "name": "stdout",
     "output_type": "stream",
     "text": [
      "이름: 홍길동 나이: 21 키: 172.5\n"
     ]
    }
   ],
   "source": [
    "#p100\n",
    "name = '홍길동'\n",
    "age = 21\n",
    "height = 172.5\n",
    "print('이름: {} 나이: {} 키: {}'.format(name, age, height))"
   ]
  },
  {
   "cell_type": "code",
   "execution_count": 19,
   "metadata": {},
   "outputs": [
    {
     "name": "stdout",
     "output_type": "stream",
     "text": [
      "이름: 홍길동 나이: 21 키: 172.5\n"
     ]
    }
   ],
   "source": [
    "print('이름: {0:3s} 나이:{1:3} 키:{2:6.1f}'.format(name, age, height))"
   ]
  },
  {
   "cell_type": "markdown",
   "metadata": {},
   "source": [
    "### 요약 문제"
   ]
  },
  {
   "cell_type": "code",
   "execution_count": 20,
   "metadata": {},
   "outputs": [],
   "source": [
    "#p101\n",
    "import turtle\n",
    "import random\n",
    "for i in range(10):\n",
    "    for j in range(5):\n",
    "        col = random.randint(0, 4)\n",
    "        coltype = ('yellow', 'blue', 'red', 'purple', 'green')\n",
    "        col = random.randint(0, 4)\n",
    "        turtle.color(coltype[col])\n",
    "        sel = random.randint(0, 4)\n",
    "        if (0 == sel):\n",
    "            turtle.forward(random.randint(50, 100))\n",
    "        elif (1 == sel):\n",
    "            turtle.right(random.randint(90, 360))\n",
    "        elif (2 == sel):\n",
    "            turtle.begin_fill()\n",
    "            turtle.circle(random.randint(-100, -20))\n",
    "            turtle.end_fill()\n",
    "        elif (3 == sel):\n",
    "            turtle.forward(random.randint(30, 50))\n",
    "        elif (4 == sel):\n",
    "            turtle.circle(random.randint(20, 100))\n",
    "    a = float(random.randint(-300, 300))\n",
    "    b = float(random.randint(-300, 300))\n",
    "    turtle.goto(a, b)"
   ]
  },
  {
   "cell_type": "code",
   "execution_count": null,
   "metadata": {},
   "outputs": [],
   "source": []
  }
 ],
 "metadata": {
  "kernelspec": {
   "display_name": "Python 3",
   "language": "python",
   "name": "python3"
  },
  "language_info": {
   "codemirror_mode": {
    "name": "ipython",
    "version": 3
   },
   "file_extension": ".py",
   "mimetype": "text/x-python",
   "name": "python",
   "nbconvert_exporter": "python",
   "pygments_lexer": "ipython3",
   "version": "3.6.5"
  }
 },
 "nbformat": 4,
 "nbformat_minor": 2
}
