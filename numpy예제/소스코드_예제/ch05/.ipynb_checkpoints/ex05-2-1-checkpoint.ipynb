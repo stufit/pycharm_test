{
 "cells": [
  {
   "cell_type": "markdown",
   "metadata": {},
   "source": [
    "# 5.2 배열의 종류\n",
    "## 리스트"
   ]
  },
  {
   "cell_type": "code",
   "execution_count": 1,
   "metadata": {},
   "outputs": [
    {
     "name": "stdout",
     "output_type": "stream",
     "text": [
      "[1020, 870, 3160, 2650]\n",
      "['사과', '오렌지', '포도', '복숭아']\n"
     ]
    }
   ],
   "source": [
    "#p77\n",
    "price = [1020, 870, 3160, 2650]\n",
    "fruits = ['사과', '오렌지', '포도', '복숭아']\n",
    "print(price)\n",
    "print(fruits)"
   ]
  },
  {
   "cell_type": "code",
   "execution_count": 2,
   "metadata": {},
   "outputs": [
    {
     "name": "stdout",
     "output_type": "stream",
     "text": [
      "870\n",
      "복숭아\n"
     ]
    }
   ],
   "source": [
    "#p78\n",
    "price = [1020, 870, 3160, 2650]\n",
    "fruits = ['사과', '오렌지', '포도', '복숭아']\n",
    "print(price[1])\n",
    "print(fruits[-1])"
   ]
  },
  {
   "cell_type": "code",
   "execution_count": 3,
   "metadata": {},
   "outputs": [],
   "source": [
    "fruits = ['사과', '오렌지', '사과', '복숭아']\n",
    "fruitstag = ['사과', 1020, '오렌지', 870, '복숭아', 2650]"
   ]
  },
  {
   "cell_type": "code",
   "execution_count": 4,
   "metadata": {},
   "outputs": [
    {
     "name": "stdout",
     "output_type": "stream",
     "text": [
      "a= [1, 5, 7] b= [1, 5, 7]\n"
     ]
    }
   ],
   "source": [
    "a = [3, 5, 7]\n",
    "b = a\n",
    "b[0] = b[0] - 2\n",
    "print('a=', a, 'b=', b)"
   ]
  },
  {
   "cell_type": "markdown",
   "metadata": {},
   "source": [
    "### 슬라이싱"
   ]
  },
  {
   "cell_type": "code",
   "execution_count": 5,
   "metadata": {},
   "outputs": [
    {
     "name": "stdout",
     "output_type": "stream",
     "text": [
      "[1020, 870]\n",
      "[1020, 3160]\n",
      "[870, 365]\n"
     ]
    }
   ],
   "source": [
    "#p79\n",
    "price = [1020, 870, 3160, 365, 731]\n",
    "print(price[0:2])\n",
    "print(price[0:4:2])\n",
    "print(price[1::2])"
   ]
  },
  {
   "cell_type": "markdown",
   "metadata": {},
   "source": [
    "### 리스트에서의 병합 및 삽입\n",
    "#### 복수 개 변수의 병합"
   ]
  },
  {
   "cell_type": "code",
   "execution_count": 6,
   "metadata": {},
   "outputs": [
    {
     "name": "stdout",
     "output_type": "stream",
     "text": [
      "Packing: [12.23, 23.34]\n",
      "Unpacking:\n",
      "c1: 12.23\n",
      "c2: 23.34\n"
     ]
    }
   ],
   "source": [
    "#p80\n",
    "x = 12.23\n",
    "y = 23.34\n",
    "packing = [x, y]          # packing!\n",
    "type(packing)\n",
    "print('Packing:', packing)\n",
    "[c1, c2] = packing        # unpacking!\n",
    "print('Unpacking:\\nc1:', c1)\n",
    "print('c2:', c2)"
   ]
  },
  {
   "cell_type": "markdown",
   "metadata": {},
   "source": [
    "#### 복수 개 리스트의 병합"
   ]
  },
  {
   "cell_type": "code",
   "execution_count": 7,
   "metadata": {},
   "outputs": [
    {
     "name": "stdout",
     "output_type": "stream",
     "text": [
      "['사과', '오렌지', '포도', '복숭아', '키위']\n"
     ]
    }
   ],
   "source": [
    "#p81\n",
    "fruits1 = ['사과', '오렌지', '포도']\n",
    "fruits2 = ['복숭아', '키위']\n",
    "allfruits = fruits1 + fruits2\n",
    "print(allfruits)"
   ]
  },
  {
   "cell_type": "markdown",
   "metadata": {},
   "source": [
    "#### 리스트에 원소 삽입\n",
    "##### append() 메소드"
   ]
  },
  {
   "cell_type": "code",
   "execution_count": 8,
   "metadata": {},
   "outputs": [
    {
     "name": "stdout",
     "output_type": "stream",
     "text": [
      "[2, 3, 5, 7]\n"
     ]
    }
   ],
   "source": [
    "prime = [2, 3, 5]\n",
    "prime.append(7)\n",
    "print(prime)"
   ]
  },
  {
   "cell_type": "code",
   "execution_count": 9,
   "metadata": {},
   "outputs": [
    {
     "name": "stdout",
     "output_type": "stream",
     "text": [
      "0\n",
      "1\n",
      "2\n",
      "3\n",
      "4\n"
     ]
    }
   ],
   "source": [
    "#p82\n",
    "a = list()            # list()는 빈 리스트 생성, a = []와 동일\n",
    "for i in range(5):\n",
    "    a.append(i)\n",
    "    print(a[i])"
   ]
  },
  {
   "cell_type": "code",
   "execution_count": 10,
   "metadata": {},
   "outputs": [
    {
     "name": "stdout",
     "output_type": "stream",
     "text": [
      "['사과', '귤', '포도', '수박']\n"
     ]
    }
   ],
   "source": [
    "fruits = ['사과', '귤', '포도']\n",
    "fruits.append('수박')\n",
    "print(fruits)"
   ]
  },
  {
   "cell_type": "markdown",
   "metadata": {},
   "source": [
    "##### insert() 메소드"
   ]
  },
  {
   "cell_type": "code",
   "execution_count": 11,
   "metadata": {},
   "outputs": [
    {
     "name": "stdout",
     "output_type": "stream",
     "text": [
      "['사과', '키위', '오렌지', '포도']\n"
     ]
    }
   ],
   "source": [
    "#p83\n",
    "fruits = ['사과', '오렌지', '포도']\n",
    "fruits.insert(1, '키위')\n",
    "print(fruits)"
   ]
  },
  {
   "cell_type": "markdown",
   "metadata": {},
   "source": [
    "##### 리스트의 함축"
   ]
  },
  {
   "cell_type": "code",
   "execution_count": 12,
   "metadata": {},
   "outputs": [
    {
     "name": "stdout",
     "output_type": "stream",
     "text": [
      "[4, 8, 2]\n"
     ]
    }
   ],
   "source": [
    "#p84\n",
    "mylist = [3, 5, 4, 9, 1, 8, 2, 1]\n",
    "newlist = [i for i in mylist if (i%2)==0]\n",
    "print(newlist)"
   ]
  },
  {
   "cell_type": "markdown",
   "metadata": {},
   "source": [
    "### 리스트의 항목 삭제\n",
    "#### del 명령문으로 삭제"
   ]
  },
  {
   "cell_type": "code",
   "execution_count": 13,
   "metadata": {},
   "outputs": [
    {
     "name": "stdout",
     "output_type": "stream",
     "text": [
      "[0, 2, 3, 4, 5]\n"
     ]
    }
   ],
   "source": [
    "#p85\n",
    "nums = [0, 1, 2, 3, 4, 5]\n",
    "del nums[1]\n",
    "print(nums)"
   ]
  },
  {
   "cell_type": "code",
   "execution_count": 14,
   "metadata": {},
   "outputs": [
    {
     "name": "stdout",
     "output_type": "stream",
     "text": [
      "[0, 5]\n"
     ]
    }
   ],
   "source": [
    "nums = [0, 1, 2, 3, 4, 5]\n",
    "del nums[1:5]\n",
    "print(nums)"
   ]
  },
  {
   "cell_type": "markdown",
   "metadata": {},
   "source": [
    "#### pop() 함수로 삭제"
   ]
  },
  {
   "cell_type": "code",
   "execution_count": 15,
   "metadata": {},
   "outputs": [
    {
     "name": "stdout",
     "output_type": "stream",
     "text": [
      "[1, 3, 5]\n"
     ]
    }
   ],
   "source": [
    "#p86\n",
    "nums = [1, 3, 5, 7, 9]\n",
    "nums.pop()         # 9가 삭제되어 [1, 3, 5, 7]로 변경됨\n",
    "nums.pop()         # 7이 삭제되어 [1, 3, 5]로 변경됨\n",
    "print(nums)        # 결과를 출력"
   ]
  },
  {
   "cell_type": "code",
   "execution_count": 16,
   "metadata": {},
   "outputs": [
    {
     "name": "stdout",
     "output_type": "stream",
     "text": [
      "[1, 3, 7, 9]\n"
     ]
    }
   ],
   "source": [
    "nums = [1, 3, 5, 7, 9]\n",
    "nums.pop(2)\n",
    "print(nums)"
   ]
  },
  {
   "cell_type": "markdown",
   "metadata": {},
   "source": [
    "#### 빈 리스트로 삭제"
   ]
  },
  {
   "cell_type": "code",
   "execution_count": 17,
   "metadata": {},
   "outputs": [
    {
     "name": "stdout",
     "output_type": "stream",
     "text": [
      "[0, 2, 3, 4, 5]\n"
     ]
    }
   ],
   "source": [
    "nums = [0, 1, 2, 3, 4, 5]\n",
    "nums[1:2] = []\n",
    "print(nums)"
   ]
  },
  {
   "cell_type": "markdown",
   "metadata": {},
   "source": [
    "### 존재여부"
   ]
  },
  {
   "cell_type": "code",
   "execution_count": 18,
   "metadata": {},
   "outputs": [
    {
     "name": "stdout",
     "output_type": "stream",
     "text": [
      "True\n"
     ]
    }
   ],
   "source": [
    "word = 'orange'\n",
    "print('r' in word)"
   ]
  },
  {
   "cell_type": "code",
   "execution_count": 19,
   "metadata": {},
   "outputs": [
    {
     "name": "stdout",
     "output_type": "stream",
     "text": [
      "False\n"
     ]
    }
   ],
   "source": [
    "#p87\n",
    "fruits = ['사과', '오렌지', '포도']\n",
    "print('포도' not in fruits)"
   ]
  },
  {
   "cell_type": "markdown",
   "metadata": {},
   "source": [
    "### 원소의 반복"
   ]
  },
  {
   "cell_type": "code",
   "execution_count": 20,
   "metadata": {},
   "outputs": [
    {
     "name": "stdout",
     "output_type": "stream",
     "text": [
      "[1, 2, 3, 1, 2, 3]\n"
     ]
    }
   ],
   "source": [
    "a = [1, 2, 3]\n",
    "b = a * 2\n",
    "print(b)"
   ]
  },
  {
   "cell_type": "code",
   "execution_count": 21,
   "metadata": {},
   "outputs": [
    {
     "name": "stdout",
     "output_type": "stream",
     "text": [
      "2\n",
      "4\n",
      "6\n"
     ]
    }
   ],
   "source": [
    "a = [1, 2, 3]\n",
    "for i in a:\n",
    "    print(i * 2)"
   ]
  },
  {
   "cell_type": "markdown",
   "metadata": {},
   "source": [
    "### 원소의 개수 측정"
   ]
  },
  {
   "cell_type": "code",
   "execution_count": 22,
   "metadata": {},
   "outputs": [
    {
     "name": "stdout",
     "output_type": "stream",
     "text": [
      "3\n"
     ]
    }
   ],
   "source": [
    "#p88\n",
    "fruits = ['사과', '오렌지', '포도']\n",
    "print(len(fruits))"
   ]
  },
  {
   "cell_type": "markdown",
   "metadata": {},
   "source": [
    "### 검색 기능\n",
    "#### 빈도수 검사"
   ]
  },
  {
   "cell_type": "code",
   "execution_count": 23,
   "metadata": {},
   "outputs": [
    {
     "name": "stdout",
     "output_type": "stream",
     "text": [
      "3\n"
     ]
    }
   ],
   "source": [
    "nums = [5, 7, 1, 3, 5, 7, 1, 3, 3, 5, 7, 9]\n",
    "print(nums.count(5))"
   ]
  },
  {
   "cell_type": "markdown",
   "metadata": {},
   "source": [
    "#### 인덱스번호 찾기"
   ]
  },
  {
   "cell_type": "code",
   "execution_count": 24,
   "metadata": {},
   "outputs": [
    {
     "name": "stdout",
     "output_type": "stream",
     "text": [
      "2\n"
     ]
    }
   ],
   "source": [
    "#p89\n",
    "nums = [1, 2, 3, 4, 5, 3]\n",
    "print(nums.index(3))"
   ]
  },
  {
   "cell_type": "markdown",
   "metadata": {},
   "source": [
    "### 정렬"
   ]
  },
  {
   "cell_type": "code",
   "execution_count": 25,
   "metadata": {},
   "outputs": [
    {
     "name": "stdout",
     "output_type": "stream",
     "text": [
      "[1, 2, 3, 3, 5, 5]\n"
     ]
    }
   ],
   "source": [
    "nums = [3, 5, 2, 1, 5, 3]\n",
    "nums.sort()\n",
    "print(nums)"
   ]
  },
  {
   "cell_type": "code",
   "execution_count": 26,
   "metadata": {},
   "outputs": [
    {
     "name": "stdout",
     "output_type": "stream",
     "text": [
      "['복숭아', '포도', '오렌지', '사과']\n"
     ]
    }
   ],
   "source": [
    "fruits = ['사과', '오렌지', '포도', '복숭아']\n",
    "fruits.reverse()\n",
    "print(fruits)"
   ]
  },
  {
   "cell_type": "markdown",
   "metadata": {},
   "source": [
    "### 2차원 리스트"
   ]
  },
  {
   "cell_type": "code",
   "execution_count": 27,
   "metadata": {},
   "outputs": [],
   "source": [
    "fruits = ['apple', 'orange', 'grape', 'orange']\n",
    "fruitdb = [['apple', 1020], ['orange', 880], ['grape', 3160]]"
   ]
  },
  {
   "cell_type": "code",
   "execution_count": 28,
   "metadata": {},
   "outputs": [
    {
     "name": "stdout",
     "output_type": "stream",
     "text": [
      "['오렌지', 880]\n",
      "오렌지\n"
     ]
    }
   ],
   "source": [
    "#p90\n",
    "fruitdb = [['사과', 1020], ['오렌지', 880], ['포도', 3160]]\n",
    "print(fruitdb[1])\n",
    "print(fruitdb[1][0])"
   ]
  },
  {
   "cell_type": "code",
   "execution_count": 29,
   "metadata": {},
   "outputs": [
    {
     "name": "stdout",
     "output_type": "stream",
     "text": [
      "[2, 20, 200]\n"
     ]
    }
   ],
   "source": [
    "record = [\n",
    "    [1, 2, 3],\n",
    "    [10, 20, 30],\n",
    "    [100, 200, 300]]\n",
    "index = [ary[1] for ary in record]\n",
    "print(index)"
   ]
  },
  {
   "cell_type": "code",
   "execution_count": 30,
   "metadata": {},
   "outputs": [
    {
     "name": "stdout",
     "output_type": "stream",
     "text": [
      "[[1, 2], [6, 7]]\n"
     ]
    }
   ],
   "source": [
    "mylist = [[1, 2], [3, 4, 5], [6, 7]]\n",
    "newlist = [x for x in mylist if len(x)==2]\n",
    "print(newlist)"
   ]
  },
  {
   "cell_type": "code",
   "execution_count": 31,
   "metadata": {},
   "outputs": [
    {
     "name": "stdout",
     "output_type": "stream",
     "text": [
      "[1, 2, 3, 1, 2, 3]\n"
     ]
    }
   ],
   "source": [
    "#p92\n",
    "def times2(a):\n",
    "    a = a * 2\n",
    "    print(a)\n",
    "nums = [1, 2, 3]\n",
    "times2(nums)"
   ]
  },
  {
   "cell_type": "code",
   "execution_count": null,
   "metadata": {},
   "outputs": [],
   "source": []
  }
 ],
 "metadata": {
  "kernelspec": {
   "display_name": "Python 3",
   "language": "python",
   "name": "python3"
  },
  "language_info": {
   "codemirror_mode": {
    "name": "ipython",
    "version": 3
   },
   "file_extension": ".py",
   "mimetype": "text/x-python",
   "name": "python",
   "nbconvert_exporter": "python",
   "pygments_lexer": "ipython3",
   "version": "3.6.5"
  }
 },
 "nbformat": 4,
 "nbformat_minor": 2
}
