{
 "cells": [
  {
   "cell_type": "markdown",
   "metadata": {},
   "source": [
    "# 5.2 배열의 종류\n",
    "## 집합"
   ]
  },
  {
   "cell_type": "code",
   "execution_count": 1,
   "metadata": {},
   "outputs": [
    {
     "name": "stdout",
     "output_type": "stream",
     "text": [
      "{1, 2, 3}\n"
     ]
    }
   ],
   "source": [
    "#p107\n",
    "dict = { }                 # 빈 사전을 생성 또는 dict = set()\n",
    "dict = {3, 2, 3, 1}       # 중복된 원소를 포함한 데이터 입력\n",
    "print(dict)"
   ]
  },
  {
   "cell_type": "code",
   "execution_count": 2,
   "metadata": {},
   "outputs": [
    {
     "name": "stdout",
     "output_type": "stream",
     "text": [
      "{'오렌지', '포도', '사과'}\n"
     ]
    }
   ],
   "source": [
    "fruits = ['사과', '오렌지', '포도', '오렌지']\n",
    "fruits = set(fruits)\n",
    "print(fruits)"
   ]
  },
  {
   "cell_type": "markdown",
   "metadata": {},
   "source": [
    "### 추가 및 삭제"
   ]
  },
  {
   "cell_type": "code",
   "execution_count": 3,
   "metadata": {},
   "outputs": [
    {
     "name": "stdout",
     "output_type": "stream",
     "text": [
      "{'오렌지', '포도', '키위', '사과'}\n"
     ]
    }
   ],
   "source": [
    "fruits = {'사과', '오렌지', '포도'}\n",
    "fruits.add('키위')\n",
    "print(fruits)         "
   ]
  },
  {
   "cell_type": "code",
   "execution_count": 4,
   "metadata": {},
   "outputs": [
    {
     "name": "stdout",
     "output_type": "stream",
     "text": [
      "{'오렌지', '사과', '수박', '포도', '배'}\n"
     ]
    }
   ],
   "source": [
    "fruits = {'사과', '오렌지', '포도'}\n",
    "fruits.update({'수박', '배'})\n",
    "print(fruits)"
   ]
  },
  {
   "cell_type": "code",
   "execution_count": 5,
   "metadata": {},
   "outputs": [
    {
     "name": "stdout",
     "output_type": "stream",
     "text": [
      "{'포도', '사과', '수박'}\n",
      "{'사과', '수박'}\n",
      "set()\n"
     ]
    }
   ],
   "source": [
    "#p108\n",
    "fruits = {'사과', '오렌지', '포도', '수박'}\n",
    "fruits.remove('오렌지')\n",
    "print(fruits)\n",
    "fruits.pop()\n",
    "print(fruits)\n",
    "fruits.clear()\n",
    "print(fruits)"
   ]
  },
  {
   "cell_type": "markdown",
   "metadata": {},
   "source": [
    "### 존재여부"
   ]
  },
  {
   "cell_type": "code",
   "execution_count": 6,
   "metadata": {},
   "outputs": [
    {
     "name": "stdout",
     "output_type": "stream",
     "text": [
      "True\n",
      "True\n"
     ]
    }
   ],
   "source": [
    "fruits = {'사과', '오렌지', '포도'}\n",
    "print('사과' in fruits)\n",
    "print('키위' not in fruits)"
   ]
  },
  {
   "cell_type": "markdown",
   "metadata": {},
   "source": [
    "### 집합의 연산"
   ]
  },
  {
   "cell_type": "code",
   "execution_count": 7,
   "metadata": {},
   "outputs": [
    {
     "name": "stdout",
     "output_type": "stream",
     "text": [
      "one | two: {1, 3, 5, 6, 7, 8}\n",
      "one & two: {8, 1, 3, 5}\n",
      "one - two: {7}\n",
      "one ^ two: {6, 7}\n"
     ]
    }
   ],
   "source": [
    "#p109\n",
    "one = {1, 3, 5, 7, 8}\n",
    "two = {1, 3, 5, 6, 8}\n",
    "print('one | two:', one | two)\n",
    "print('one & two:', one & two)\n",
    "print('one - two:', one - two)\n",
    "print('one ^ two:', one ^ two)"
   ]
  },
  {
   "cell_type": "code",
   "execution_count": 8,
   "metadata": {},
   "outputs": [
    {
     "name": "stdout",
     "output_type": "stream",
     "text": [
      "one <= two: True\n",
      "one < two: False\n",
      "one >= two: True\n",
      "one > two: False\n"
     ]
    }
   ],
   "source": [
    "#p110\n",
    "one = {1, 3, 5, 8}\n",
    "two = {1, 3, 5, 8}\n",
    "print('one <= two:', one <= two)\n",
    "print('one < two:', one < two)\n",
    "print('one >= two:', one >= two)\n",
    "print('one > two:', one > two)"
   ]
  },
  {
   "cell_type": "markdown",
   "metadata": {},
   "source": [
    "### 인공지능을 위한 빅데이터 분석의 예제"
   ]
  },
  {
   "cell_type": "code",
   "execution_count": 9,
   "metadata": {},
   "outputs": [
    {
     "name": "stdout",
     "output_type": "stream",
     "text": [
      "{'사과': 2, '포도': 2, '레몬': 1}\n"
     ]
    }
   ],
   "source": [
    "training_data = [['연두', 3, '사과'],\n",
    "                ['노랑', 3, '사과'],\n",
    "                ['빨강', 2, '포도'],\n",
    "                ['빨강', 1, '포도'],\n",
    "                ['노랑', 3, '레몬']]\n",
    "def fruit_counts(data):\n",
    "    counts = {}\n",
    "    for row in data:\n",
    "        label = row[-1]\n",
    "        if label not in counts:\n",
    "            counts[label] = 0\n",
    "        counts[label] += 1\n",
    "    return counts\n",
    "result = fruit_counts(training_data)\n",
    "print(result)"
   ]
  },
  {
   "cell_type": "code",
   "execution_count": null,
   "metadata": {},
   "outputs": [],
   "source": []
  }
 ],
 "metadata": {
  "kernelspec": {
   "display_name": "Python 3",
   "language": "python",
   "name": "python3"
  },
  "language_info": {
   "codemirror_mode": {
    "name": "ipython",
    "version": 3
   },
   "file_extension": ".py",
   "mimetype": "text/x-python",
   "name": "python",
   "nbconvert_exporter": "python",
   "pygments_lexer": "ipython3",
   "version": "3.6.5"
  }
 },
 "nbformat": 4,
 "nbformat_minor": 2
}
