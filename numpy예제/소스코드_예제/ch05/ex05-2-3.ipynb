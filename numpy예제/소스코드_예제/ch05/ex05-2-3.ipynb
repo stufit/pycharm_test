{
 "cells": [
  {
   "cell_type": "markdown",
   "metadata": {},
   "source": [
    "# 5.2 배열의 종류\n",
    "## 사전\n",
    "### 사전의 생성 및 삽입"
   ]
  },
  {
   "cell_type": "code",
   "execution_count": 1,
   "metadata": {},
   "outputs": [
    {
     "name": "stdout",
     "output_type": "stream",
     "text": [
      "{'지훈': 1234}\n"
     ]
    }
   ],
   "source": [
    "#p102\n",
    "student = {}         # 빈 사전을 생성함. 또는 student = dict()\n",
    "student['지훈'] = 1234\n",
    "print(student)"
   ]
  },
  {
   "cell_type": "code",
   "execution_count": 2,
   "metadata": {},
   "outputs": [
    {
     "name": "stdout",
     "output_type": "stream",
     "text": [
      "{'지훈': 1234, '수민': 2345}\n"
     ]
    }
   ],
   "source": [
    "student = { }\n",
    "student['지훈'] = 1234\n",
    "student['수민'] = 2345\n",
    "print(student)"
   ]
  },
  {
   "cell_type": "code",
   "execution_count": 3,
   "metadata": {},
   "outputs": [
    {
     "name": "stdout",
     "output_type": "stream",
     "text": [
      "{'사과': 1020, '오렌지': 880, '포도': 3160}\n"
     ]
    }
   ],
   "source": [
    "#p103\n",
    "fruitdb = {'사과':1020, '오렌지':880, '포도':3160}\n",
    "print(fruitdb)"
   ]
  },
  {
   "cell_type": "code",
   "execution_count": 4,
   "metadata": {},
   "outputs": [
    {
     "ename": "KeyError",
     "evalue": "1",
     "output_type": "error",
     "traceback": [
      "\u001b[1;31m---------------------------------------------------------------------------\u001b[0m",
      "\u001b[1;31mKeyError\u001b[0m                                  Traceback (most recent call last)",
      "\u001b[1;32m<ipython-input-4-f8b0b2295b01>\u001b[0m in \u001b[0;36m<module>\u001b[1;34m()\u001b[0m\n\u001b[0;32m      1\u001b[0m \u001b[0mfruitdb\u001b[0m \u001b[1;33m=\u001b[0m \u001b[1;33m{\u001b[0m\u001b[1;34m'사과'\u001b[0m\u001b[1;33m:\u001b[0m\u001b[1;36m1020\u001b[0m\u001b[1;33m,\u001b[0m \u001b[1;34m'오렌지'\u001b[0m\u001b[1;33m:\u001b[0m\u001b[1;36m880\u001b[0m\u001b[1;33m,\u001b[0m \u001b[1;34m'포도'\u001b[0m\u001b[1;33m:\u001b[0m\u001b[1;36m3160\u001b[0m\u001b[1;33m}\u001b[0m\u001b[1;33m\u001b[0m\u001b[0m\n\u001b[1;32m----> 2\u001b[1;33m \u001b[0mprint\u001b[0m\u001b[1;33m(\u001b[0m\u001b[0mfruitdb\u001b[0m\u001b[1;33m[\u001b[0m\u001b[1;36m1\u001b[0m\u001b[1;33m]\u001b[0m\u001b[1;33m)\u001b[0m\u001b[1;33m\u001b[0m\u001b[0m\n\u001b[0m",
      "\u001b[1;31mKeyError\u001b[0m: 1"
     ]
    }
   ],
   "source": [
    "fruitdb = {'사과':1020, '오렌지':880, '포도':3160}\n",
    "print(fruitdb[1])"
   ]
  },
  {
   "cell_type": "code",
   "execution_count": 5,
   "metadata": {},
   "outputs": [
    {
     "ename": "TypeError",
     "evalue": "unhashable type: 'slice'",
     "output_type": "error",
     "traceback": [
      "\u001b[1;31m---------------------------------------------------------------------------\u001b[0m",
      "\u001b[1;31mTypeError\u001b[0m                                 Traceback (most recent call last)",
      "\u001b[1;32m<ipython-input-5-aea18eae079d>\u001b[0m in \u001b[0;36m<module>\u001b[1;34m()\u001b[0m\n\u001b[1;32m----> 1\u001b[1;33m \u001b[0mprint\u001b[0m\u001b[1;33m(\u001b[0m\u001b[0mfruitdb\u001b[0m\u001b[1;33m[\u001b[0m\u001b[1;36m1\u001b[0m\u001b[1;33m:\u001b[0m\u001b[1;36m2\u001b[0m\u001b[1;33m]\u001b[0m\u001b[1;33m)\u001b[0m\u001b[1;33m\u001b[0m\u001b[0m\n\u001b[0m",
      "\u001b[1;31mTypeError\u001b[0m: unhashable type: 'slice'"
     ]
    }
   ],
   "source": [
    "print(fruitdb[1:2])"
   ]
  },
  {
   "cell_type": "markdown",
   "metadata": {},
   "source": [
    "### 사전 항목 삭제"
   ]
  },
  {
   "cell_type": "code",
   "execution_count": 6,
   "metadata": {},
   "outputs": [
    {
     "name": "stdout",
     "output_type": "stream",
     "text": [
      "{'오렌지': 880, '포도': 3160}\n"
     ]
    }
   ],
   "source": [
    "#p104\n",
    "fruitdb = {'사과':1020, '오렌지':880, '포도':3160}\n",
    "del fruitdb['사과']\n",
    "print(fruitdb)"
   ]
  },
  {
   "cell_type": "markdown",
   "metadata": {},
   "source": [
    "### 사전 항목 검색"
   ]
  },
  {
   "cell_type": "code",
   "execution_count": 7,
   "metadata": {},
   "outputs": [
    {
     "name": "stdout",
     "output_type": "stream",
     "text": [
      "False\n",
      "1234\n",
      "2345\n",
      "dict_keys(['현준', '민지'])\n",
      "dict_values([1234, 2345])\n",
      "dict_items([('현준', 1234), ('민지', 2345)])\n"
     ]
    }
   ],
   "source": [
    "student = {'현준': 1234, '민지': 2345}\n",
    "print('SeJong' in student)\n",
    "print(student.get('현준'))\n",
    "print(student.get('민지'))\n",
    "print(student.keys())\n",
    "print(student.values())\n",
    "print(student.items())"
   ]
  },
  {
   "cell_type": "markdown",
   "metadata": {},
   "source": [
    "### 사전 병합"
   ]
  },
  {
   "cell_type": "code",
   "execution_count": 8,
   "metadata": {},
   "outputs": [
    {
     "name": "stdout",
     "output_type": "stream",
     "text": [
      "{'현준': 1234, '민지': 2345, '승민': 3456, '유진': 4567}\n"
     ]
    }
   ],
   "source": [
    "#p105\n",
    "student = {'현준': 1234, '민지': 2345}\n",
    "newstd = {'승민': 3456, '유진': 4567}\n",
    "student.update(newstd)\n",
    "print(student)"
   ]
  },
  {
   "cell_type": "markdown",
   "metadata": {},
   "source": [
    "### 다른 배열로 사전만들기"
   ]
  },
  {
   "cell_type": "code",
   "execution_count": 9,
   "metadata": {},
   "outputs": [
    {
     "name": "stdout",
     "output_type": "stream",
     "text": [
      "{'현준': 1234, '민지': 2345}\n",
      "{'현준': 1234, '민지': 2345}\n",
      "{'현준': 1234, '민지': 2345}\n"
     ]
    }
   ],
   "source": [
    "student = dict([['현준', 1234], ['민지', 2345]])\n",
    "print(student)\n",
    "student = dict([('현준', 1234), ('민지', 2345)])\n",
    "print(student)\n",
    "student = dict((('현준', 1234), ('민지', 2345)))\n",
    "print(student)"
   ]
  },
  {
   "cell_type": "code",
   "execution_count": 10,
   "metadata": {},
   "outputs": [
    {
     "name": "stdout",
     "output_type": "stream",
     "text": [
      "{'현준': 1234, '민지': 2345}\n"
     ]
    }
   ],
   "source": [
    "student = dict(현준=1234, 민지=2345)\n",
    "print(student)"
   ]
  },
  {
   "cell_type": "markdown",
   "metadata": {},
   "source": [
    "### [참고] 사전 포매팅"
   ]
  },
  {
   "cell_type": "code",
   "execution_count": 11,
   "metadata": {},
   "outputs": [
    {
     "name": "stdout",
     "output_type": "stream",
     "text": [
      "이름:준혁, 나이:21, 키:172.5\n"
     ]
    }
   ],
   "source": [
    "person = {'name':'준혁', 'age':21, 'height':172.5}\n",
    "print('이름:{0[name]}, 나이:{0[age]}, 키:{0[height]}'.format(person))"
   ]
  },
  {
   "cell_type": "code",
   "execution_count": null,
   "metadata": {},
   "outputs": [],
   "source": []
  }
 ],
 "metadata": {
  "kernelspec": {
   "display_name": "Python 3",
   "language": "python",
   "name": "python3"
  },
  "language_info": {
   "codemirror_mode": {
    "name": "ipython",
    "version": 3
   },
   "file_extension": ".py",
   "mimetype": "text/x-python",
   "name": "python",
   "nbconvert_exporter": "python",
   "pygments_lexer": "ipython3",
   "version": "3.6.5"
  }
 },
 "nbformat": 4,
 "nbformat_minor": 2
}
