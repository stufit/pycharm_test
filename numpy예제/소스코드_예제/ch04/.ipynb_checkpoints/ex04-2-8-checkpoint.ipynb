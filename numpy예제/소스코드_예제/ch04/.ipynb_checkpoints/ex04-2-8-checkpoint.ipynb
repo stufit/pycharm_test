{
 "cells": [
  {
   "cell_type": "markdown",
   "metadata": {},
   "source": [
    "# 4.2 함수의 응용\n",
    "## 터틀 그래픽\n",
    "### 도형의 면의 색상 지정하기"
   ]
  },
  {
   "cell_type": "code",
   "execution_count": 1,
   "metadata": {},
   "outputs": [],
   "source": [
    "#p59\n",
    "import turtle\n",
    "turtle.color('red')\n",
    "turtle.begin_fill()\n",
    "turtle.circle(50)\n",
    "turtle.end_fill()\n",
    "turtle.pencolor('blue')\n",
    "turtle.circle(-100)"
   ]
  },
  {
   "cell_type": "code",
   "execution_count": null,
   "metadata": {},
   "outputs": [],
   "source": []
  }
 ],
 "metadata": {
  "kernelspec": {
   "display_name": "Python 3",
   "language": "python",
   "name": "python3"
  },
  "language_info": {
   "codemirror_mode": {
    "name": "ipython",
    "version": 3
   },
   "file_extension": ".py",
   "mimetype": "text/x-python",
   "name": "python",
   "nbconvert_exporter": "python",
   "pygments_lexer": "ipython3",
   "version": "3.6.5"
  }
 },
 "nbformat": 4,
 "nbformat_minor": 2
}
