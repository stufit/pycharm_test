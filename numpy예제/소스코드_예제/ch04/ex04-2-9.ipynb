{
 "cells": [
  {
   "cell_type": "markdown",
   "metadata": {},
   "source": [
    "# 4.2 함수의 응용\n",
    "## 터틀 그래픽\n",
    "### 무작위 값 생성"
   ]
  },
  {
   "cell_type": "code",
   "execution_count": 1,
   "metadata": {},
   "outputs": [
    {
     "name": "stdout",
     "output_type": "stream",
     "text": [
      "1\n"
     ]
    }
   ],
   "source": [
    "#p60\n",
    "import random\n",
    "print(random.randint(1, 2))"
   ]
  },
  {
   "cell_type": "code",
   "execution_count": 2,
   "metadata": {},
   "outputs": [
    {
     "name": "stdout",
     "output_type": "stream",
     "text": [
      "100\n"
     ]
    }
   ],
   "source": [
    "import random\n",
    "print(random.randint(50, 100))"
   ]
  },
  {
   "cell_type": "markdown",
   "metadata": {},
   "source": [
    "### 칸딘스키의 작품과 비슷한 작품 만들기"
   ]
  },
  {
   "cell_type": "code",
   "execution_count": 4,
   "metadata": {},
   "outputs": [],
   "source": [
    "#p62\n",
    "import turtle\n",
    "import random\n",
    "for i in range(10):\n",
    "    for j in range(5):\n",
    "        col = random.randint(0, 3)\n",
    "        if (0 == col):\n",
    "            turtle.pencolor(\"yellow\")\n",
    "        elif (1 == col):\n",
    "            turtle.pencolor(\"blue\")\n",
    "        elif (2 == col):\n",
    "            turtle.pencolor(\"red\")\n",
    "        elif (3 == col):\n",
    "            turtle.pencolor(\"green\")\n",
    "        col = random.randint(0, 4)\n",
    "        if (0 == col):\n",
    "            turtle.color('red')\n",
    "        elif (1 == col):\n",
    "            turtle.color('blue')\n",
    "        elif (2 == col):\n",
    "            turtle.color('green')\n",
    "        elif (3 == col):\n",
    "            turtle.color('purple')\n",
    "        elif (4 == col):\n",
    "            turtle.color('yellow')\n",
    "        sel = random.randint(0, 4)\n",
    "        if (0 == sel):\n",
    "            turtle.forward(random.randint(50, 100))\n",
    "        elif (1 == sel):\n",
    "            turtle.right(random.randint(90, 360))\n",
    "        elif (2 == sel):\n",
    "            turtle.begin_fill()\n",
    "            turtle.circle(random.randint(-100, -20))\n",
    "            turtle.end_fill()\n",
    "        elif (3 == sel):\n",
    "            turtle.forward(random.randint(30, 50))\n",
    "        elif (4 == sel):\n",
    "            turtle.circle(random.randint(20, 100))\n",
    "    a = float(random.randint(-300, 300))\n",
    "    b = float(random.randint(-300, 300))\n",
    "    turtle.goto(a, b)"
   ]
  },
  {
   "cell_type": "code",
   "execution_count": null,
   "metadata": {},
   "outputs": [],
   "source": []
  }
 ],
 "metadata": {
  "kernelspec": {
   "display_name": "Python 3",
   "language": "python",
   "name": "python3"
  },
  "language_info": {
   "codemirror_mode": {
    "name": "ipython",
    "version": 3
   },
   "file_extension": ".py",
   "mimetype": "text/x-python",
   "name": "python",
   "nbconvert_exporter": "python",
   "pygments_lexer": "ipython3",
   "version": "3.6.5"
  }
 },
 "nbformat": 4,
 "nbformat_minor": 2
}
