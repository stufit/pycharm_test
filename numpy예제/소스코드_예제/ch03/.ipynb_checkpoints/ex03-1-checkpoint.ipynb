{
 "cells": [
  {
   "cell_type": "markdown",
   "metadata": {},
   "source": [
    "# 3.1 조건문\n",
    "## 단일 if문\n",
    "### 단일 if 구문 형식"
   ]
  },
  {
   "cell_type": "code",
   "execution_count": 1,
   "metadata": {},
   "outputs": [
    {
     "name": "stdout",
     "output_type": "stream",
     "text": [
      "합격입니다.\n",
      "\n"
     ]
    }
   ],
   "source": [
    "#p36\n",
    "grade = 82\n",
    "if (grade >= 80):\n",
    "    print('합격입니다.\\n')"
   ]
  },
  {
   "cell_type": "markdown",
   "metadata": {},
   "source": [
    "### 단일 if-else 구문 형식"
   ]
  },
  {
   "cell_type": "code",
   "execution_count": 2,
   "metadata": {},
   "outputs": [
    {
     "name": "stdout",
     "output_type": "stream",
     "text": [
      "당신은 성인입니다.\n",
      "\n"
     ]
    }
   ],
   "source": [
    "#p37\n",
    "age = 20\n",
    "if (age >= 19):\n",
    "    print('당신은 성인입니다.\\n')\n",
    "else :\n",
    "    print('당신은 미성년자입니다.\\n')"
   ]
  },
  {
   "cell_type": "code",
   "execution_count": 3,
   "metadata": {},
   "outputs": [
    {
     "name": "stdout",
     "output_type": "stream",
     "text": [
      "당신은 미성년자입니다.\n",
      "1 살이 부족함.\n"
     ]
    }
   ],
   "source": [
    "age = 18\n",
    "if (age >= 19):\n",
    "    print('당신은 성인입니다.')\n",
    "    print(age-19, '살 넘음.')\n",
    "else :\n",
    "    print('당신은 미성년자입니다.')\n",
    "    print(19-age, '살이 부족함.')"
   ]
  },
  {
   "cell_type": "markdown",
   "metadata": {},
   "source": [
    "## 중첩 if문"
   ]
  },
  {
   "cell_type": "code",
   "execution_count": 4,
   "metadata": {},
   "outputs": [
    {
     "name": "stdout",
     "output_type": "stream",
     "text": [
      "음수\n",
      "\n"
     ]
    }
   ],
   "source": [
    "#p38\n",
    "num = -1\n",
    "if (num > 0):\n",
    "    print('양수!\\n')\n",
    "elif (num < 0):\n",
    "    print('음수\\n')\n",
    "else :\n",
    "    print('0\\n')"
   ]
  },
  {
   "cell_type": "code",
   "execution_count": null,
   "metadata": {},
   "outputs": [],
   "source": []
  }
 ],
 "metadata": {
  "kernelspec": {
   "display_name": "Python 3",
   "language": "python",
   "name": "python3"
  },
  "language_info": {
   "codemirror_mode": {
    "name": "ipython",
    "version": 3
   },
   "file_extension": ".py",
   "mimetype": "text/x-python",
   "name": "python",
   "nbconvert_exporter": "python",
   "pygments_lexer": "ipython3",
   "version": "3.6.5"
  }
 },
 "nbformat": 4,
 "nbformat_minor": 2
}
