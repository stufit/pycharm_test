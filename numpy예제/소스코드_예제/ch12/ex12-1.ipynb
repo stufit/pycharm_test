{
 "cells": [
  {
   "cell_type": "markdown",
   "metadata": {},
   "source": [
    "# 12.1 빅데이터의 가공\n",
    "## 존재하지 않는 값 처리"
   ]
  },
  {
   "cell_type": "code",
   "execution_count": 1,
   "metadata": {},
   "outputs": [
    {
     "ename": "NameError",
     "evalue": "name 'NaN' is not defined",
     "output_type": "error",
     "traceback": [
      "\u001b[1;31m---------------------------------------------------------------------------\u001b[0m",
      "\u001b[1;31mNameError\u001b[0m                                 Traceback (most recent call last)",
      "\u001b[1;32m<ipython-input-1-999ff8d4b886>\u001b[0m in \u001b[0;36m<module>\u001b[1;34m()\u001b[0m\n\u001b[0;32m      1\u001b[0m \u001b[1;32mimport\u001b[0m \u001b[0mpandas\u001b[0m \u001b[1;32mas\u001b[0m \u001b[0mpd\u001b[0m\u001b[1;33m\u001b[0m\u001b[0m\n\u001b[1;32m----> 2\u001b[1;33m \u001b[0mrobots\u001b[0m \u001b[1;33m=\u001b[0m \u001b[1;33m[\u001b[0m\u001b[1;33m[\u001b[0m\u001b[1;36m24\u001b[0m\u001b[1;33m,\u001b[0m \u001b[1;36m23680\u001b[0m\u001b[1;33m]\u001b[0m\u001b[1;33m,\u001b[0m \u001b[1;33m[\u001b[0m\u001b[1;36m35\u001b[0m\u001b[1;33m,\u001b[0m \u001b[0mNaN\u001b[0m\u001b[1;33m]\u001b[0m\u001b[1;33m,\u001b[0m \u001b[1;33m[\u001b[0m\u001b[1;36m46\u001b[0m\u001b[1;33m,\u001b[0m \u001b[1;36m47350\u001b[0m\u001b[1;33m]\u001b[0m\u001b[1;33m,\u001b[0m \u001b[1;33m[\u001b[0m\u001b[1;36m27\u001b[0m\u001b[1;33m,\u001b[0m \u001b[0mNaN\u001b[0m\u001b[1;33m]\u001b[0m\u001b[1;33m]\u001b[0m\u001b[1;33m\u001b[0m\u001b[0m\n\u001b[0m",
      "\u001b[1;31mNameError\u001b[0m: name 'NaN' is not defined"
     ]
    }
   ],
   "source": [
    "#p183\n",
    "import pandas as pd\n",
    "robots = [[24, 23680], [35, NaN], [46, 47350], [27, NaN]]"
   ]
  },
  {
   "cell_type": "code",
   "execution_count": 2,
   "metadata": {},
   "outputs": [
    {
     "name": "stdout",
     "output_type": "stream",
     "text": [
      "[[24, 23680], [35, nan], [46, 47350], [27, nan]]\n"
     ]
    }
   ],
   "source": [
    "#p184\n",
    "import pandas as pd\n",
    "from numpy import NaN\n",
    "robots = [[24, 23680], [35, NaN], [46, 47350], [27, NaN]]\n",
    "print(robots)"
   ]
  },
  {
   "cell_type": "code",
   "execution_count": 3,
   "metadata": {},
   "outputs": [
    {
     "name": "stdout",
     "output_type": "stream",
     "text": [
      "   max_speed    price\n",
      "0         24  23680.0\n",
      "1         35      NaN\n",
      "2         46  47350.0\n",
      "3         27      NaN\n"
     ]
    }
   ],
   "source": [
    "import pandas as pd\n",
    "from numpy import NaN\n",
    "robots = [[24, 23680], [35, NaN], [46, 47350], [27, NaN]]\n",
    "data = pd.DataFrame(robots, columns=['max_speed', 'price'])\n",
    "print(data)"
   ]
  },
  {
   "cell_type": "code",
   "execution_count": 4,
   "metadata": {},
   "outputs": [
    {
     "name": "stdout",
     "output_type": "stream",
     "text": [
      "   max_speed    price\n",
      "0         24  23680.0\n",
      "2         46  47350.0\n"
     ]
    }
   ],
   "source": [
    "data.dropna(subset=['price'], axis=0, inplace=True)\n",
    "print(data)"
   ]
  },
  {
   "cell_type": "code",
   "execution_count": 5,
   "metadata": {},
   "outputs": [
    {
     "name": "stdout",
     "output_type": "stream",
     "text": [
      "   max_speed    price\n",
      "0         24  23680.0\n",
      "1         35      NaN\n",
      "2         46  47350.0\n",
      "3         27      NaN\n"
     ]
    }
   ],
   "source": [
    "#p185\n",
    "import pandas as pd\n",
    "from numpy import NaN\n",
    "robots = [[24, 23680], [35, NaN], [46, 47350], [27, NaN]]\n",
    "data = pd.DataFrame(robots, columns=['max_speed', 'price'])\n",
    "mean = data['price'].mean()\n",
    "data.replace(NaN, mean)\n",
    "print(data)"
   ]
  },
  {
   "cell_type": "code",
   "execution_count": 6,
   "metadata": {},
   "outputs": [
    {
     "name": "stdout",
     "output_type": "stream",
     "text": [
      "   max_speed    price\n",
      "0         24  23680.0\n",
      "1         35  35515.0\n",
      "2         46  47350.0\n",
      "3         27  35515.0\n"
     ]
    }
   ],
   "source": [
    "data = data.replace(NaN, mean)\n",
    "# 또는\n",
    "# data.replace(NaN, mean, inplace=True)\n",
    "print(data)"
   ]
  },
  {
   "cell_type": "code",
   "execution_count": null,
   "metadata": {},
   "outputs": [],
   "source": []
  }
 ],
 "metadata": {
  "kernelspec": {
   "display_name": "Python 3",
   "language": "python",
   "name": "python3"
  },
  "language_info": {
   "codemirror_mode": {
    "name": "ipython",
    "version": 3
   },
   "file_extension": ".py",
   "mimetype": "text/x-python",
   "name": "python",
   "nbconvert_exporter": "python",
   "pygments_lexer": "ipython3",
   "version": "3.6.5"
  }
 },
 "nbformat": 4,
 "nbformat_minor": 2
}
